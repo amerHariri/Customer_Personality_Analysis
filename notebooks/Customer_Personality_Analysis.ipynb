{
 "cells": [
  {
   "cell_type": "code",
   "execution_count": 3,
   "id": "a171094b-6f3e-444d-a95f-4cb590210af9",
   "metadata": {},
   "outputs": [],
   "source": [
    "import pandas as pd\n",
    "import matplotlib.pyplot as plt\n",
    "import seaborn as sns\n",
    "\n",
    "%matplotlib inline\n",
    "plt.style.use('ggplot')"
   ]
  },
  {
   "cell_type": "code",
   "execution_count": 4,
   "id": "6d26b336-530b-489f-82e9-2175c3e267e0",
   "metadata": {},
   "outputs": [],
   "source": [
    "df = pd.read_csv('../data/marketing_campaign.csv',sep='\\t')"
   ]
  },
  {
   "cell_type": "markdown",
   "id": "f55f4e08-7567-41b8-882d-4c427b749d93",
   "metadata": {},
   "source": [
    "### 👁️ نظرة عامة على البيانات"
   ]
  },
  {
   "cell_type": "code",
   "execution_count": 5,
   "id": "a77a475a-700b-4456-b47c-9eb6cf81c2ac",
   "metadata": {},
   "outputs": [
    {
     "data": {
      "text/html": [
       "<div>\n",
       "<style scoped>\n",
       "    .dataframe tbody tr th:only-of-type {\n",
       "        vertical-align: middle;\n",
       "    }\n",
       "\n",
       "    .dataframe tbody tr th {\n",
       "        vertical-align: top;\n",
       "    }\n",
       "\n",
       "    .dataframe thead th {\n",
       "        text-align: right;\n",
       "    }\n",
       "</style>\n",
       "<table border=\"1\" class=\"dataframe\">\n",
       "  <thead>\n",
       "    <tr style=\"text-align: right;\">\n",
       "      <th></th>\n",
       "      <th>ID</th>\n",
       "      <th>Year_Birth</th>\n",
       "      <th>Education</th>\n",
       "      <th>Marital_Status</th>\n",
       "      <th>Income</th>\n",
       "      <th>Kidhome</th>\n",
       "      <th>Teenhome</th>\n",
       "      <th>Dt_Customer</th>\n",
       "      <th>Recency</th>\n",
       "      <th>MntWines</th>\n",
       "      <th>...</th>\n",
       "      <th>NumWebVisitsMonth</th>\n",
       "      <th>AcceptedCmp3</th>\n",
       "      <th>AcceptedCmp4</th>\n",
       "      <th>AcceptedCmp5</th>\n",
       "      <th>AcceptedCmp1</th>\n",
       "      <th>AcceptedCmp2</th>\n",
       "      <th>Complain</th>\n",
       "      <th>Z_CostContact</th>\n",
       "      <th>Z_Revenue</th>\n",
       "      <th>Response</th>\n",
       "    </tr>\n",
       "  </thead>\n",
       "  <tbody>\n",
       "    <tr>\n",
       "      <th>0</th>\n",
       "      <td>5524</td>\n",
       "      <td>1957</td>\n",
       "      <td>Graduation</td>\n",
       "      <td>Single</td>\n",
       "      <td>58138.0</td>\n",
       "      <td>0</td>\n",
       "      <td>0</td>\n",
       "      <td>04-09-2012</td>\n",
       "      <td>58</td>\n",
       "      <td>635</td>\n",
       "      <td>...</td>\n",
       "      <td>7</td>\n",
       "      <td>0</td>\n",
       "      <td>0</td>\n",
       "      <td>0</td>\n",
       "      <td>0</td>\n",
       "      <td>0</td>\n",
       "      <td>0</td>\n",
       "      <td>3</td>\n",
       "      <td>11</td>\n",
       "      <td>1</td>\n",
       "    </tr>\n",
       "    <tr>\n",
       "      <th>1</th>\n",
       "      <td>2174</td>\n",
       "      <td>1954</td>\n",
       "      <td>Graduation</td>\n",
       "      <td>Single</td>\n",
       "      <td>46344.0</td>\n",
       "      <td>1</td>\n",
       "      <td>1</td>\n",
       "      <td>08-03-2014</td>\n",
       "      <td>38</td>\n",
       "      <td>11</td>\n",
       "      <td>...</td>\n",
       "      <td>5</td>\n",
       "      <td>0</td>\n",
       "      <td>0</td>\n",
       "      <td>0</td>\n",
       "      <td>0</td>\n",
       "      <td>0</td>\n",
       "      <td>0</td>\n",
       "      <td>3</td>\n",
       "      <td>11</td>\n",
       "      <td>0</td>\n",
       "    </tr>\n",
       "    <tr>\n",
       "      <th>2</th>\n",
       "      <td>4141</td>\n",
       "      <td>1965</td>\n",
       "      <td>Graduation</td>\n",
       "      <td>Together</td>\n",
       "      <td>71613.0</td>\n",
       "      <td>0</td>\n",
       "      <td>0</td>\n",
       "      <td>21-08-2013</td>\n",
       "      <td>26</td>\n",
       "      <td>426</td>\n",
       "      <td>...</td>\n",
       "      <td>4</td>\n",
       "      <td>0</td>\n",
       "      <td>0</td>\n",
       "      <td>0</td>\n",
       "      <td>0</td>\n",
       "      <td>0</td>\n",
       "      <td>0</td>\n",
       "      <td>3</td>\n",
       "      <td>11</td>\n",
       "      <td>0</td>\n",
       "    </tr>\n",
       "    <tr>\n",
       "      <th>3</th>\n",
       "      <td>6182</td>\n",
       "      <td>1984</td>\n",
       "      <td>Graduation</td>\n",
       "      <td>Together</td>\n",
       "      <td>26646.0</td>\n",
       "      <td>1</td>\n",
       "      <td>0</td>\n",
       "      <td>10-02-2014</td>\n",
       "      <td>26</td>\n",
       "      <td>11</td>\n",
       "      <td>...</td>\n",
       "      <td>6</td>\n",
       "      <td>0</td>\n",
       "      <td>0</td>\n",
       "      <td>0</td>\n",
       "      <td>0</td>\n",
       "      <td>0</td>\n",
       "      <td>0</td>\n",
       "      <td>3</td>\n",
       "      <td>11</td>\n",
       "      <td>0</td>\n",
       "    </tr>\n",
       "    <tr>\n",
       "      <th>4</th>\n",
       "      <td>5324</td>\n",
       "      <td>1981</td>\n",
       "      <td>PhD</td>\n",
       "      <td>Married</td>\n",
       "      <td>58293.0</td>\n",
       "      <td>1</td>\n",
       "      <td>0</td>\n",
       "      <td>19-01-2014</td>\n",
       "      <td>94</td>\n",
       "      <td>173</td>\n",
       "      <td>...</td>\n",
       "      <td>5</td>\n",
       "      <td>0</td>\n",
       "      <td>0</td>\n",
       "      <td>0</td>\n",
       "      <td>0</td>\n",
       "      <td>0</td>\n",
       "      <td>0</td>\n",
       "      <td>3</td>\n",
       "      <td>11</td>\n",
       "      <td>0</td>\n",
       "    </tr>\n",
       "  </tbody>\n",
       "</table>\n",
       "<p>5 rows × 29 columns</p>\n",
       "</div>"
      ],
      "text/plain": [
       "     ID  Year_Birth   Education Marital_Status   Income  Kidhome  Teenhome  \\\n",
       "0  5524        1957  Graduation         Single  58138.0        0         0   \n",
       "1  2174        1954  Graduation         Single  46344.0        1         1   \n",
       "2  4141        1965  Graduation       Together  71613.0        0         0   \n",
       "3  6182        1984  Graduation       Together  26646.0        1         0   \n",
       "4  5324        1981         PhD        Married  58293.0        1         0   \n",
       "\n",
       "  Dt_Customer  Recency  MntWines  ...  NumWebVisitsMonth  AcceptedCmp3  \\\n",
       "0  04-09-2012       58       635  ...                  7             0   \n",
       "1  08-03-2014       38        11  ...                  5             0   \n",
       "2  21-08-2013       26       426  ...                  4             0   \n",
       "3  10-02-2014       26        11  ...                  6             0   \n",
       "4  19-01-2014       94       173  ...                  5             0   \n",
       "\n",
       "   AcceptedCmp4  AcceptedCmp5  AcceptedCmp1  AcceptedCmp2  Complain  \\\n",
       "0             0             0             0             0         0   \n",
       "1             0             0             0             0         0   \n",
       "2             0             0             0             0         0   \n",
       "3             0             0             0             0         0   \n",
       "4             0             0             0             0         0   \n",
       "\n",
       "   Z_CostContact  Z_Revenue  Response  \n",
       "0              3         11         1  \n",
       "1              3         11         0  \n",
       "2              3         11         0  \n",
       "3              3         11         0  \n",
       "4              3         11         0  \n",
       "\n",
       "[5 rows x 29 columns]"
      ]
     },
     "execution_count": 5,
     "metadata": {},
     "output_type": "execute_result"
    }
   ],
   "source": [
    "df.head()"
   ]
  },
  {
   "cell_type": "code",
   "execution_count": 6,
   "id": "9a05f8d4-59f0-4c70-a672-1bfe494cf599",
   "metadata": {},
   "outputs": [
    {
     "data": {
      "text/html": [
       "<div>\n",
       "<style scoped>\n",
       "    .dataframe tbody tr th:only-of-type {\n",
       "        vertical-align: middle;\n",
       "    }\n",
       "\n",
       "    .dataframe tbody tr th {\n",
       "        vertical-align: top;\n",
       "    }\n",
       "\n",
       "    .dataframe thead th {\n",
       "        text-align: right;\n",
       "    }\n",
       "</style>\n",
       "<table border=\"1\" class=\"dataframe\">\n",
       "  <thead>\n",
       "    <tr style=\"text-align: right;\">\n",
       "      <th></th>\n",
       "      <th>ID</th>\n",
       "      <th>Year_Birth</th>\n",
       "      <th>Education</th>\n",
       "      <th>Marital_Status</th>\n",
       "      <th>Income</th>\n",
       "      <th>Kidhome</th>\n",
       "      <th>Teenhome</th>\n",
       "      <th>Dt_Customer</th>\n",
       "      <th>Recency</th>\n",
       "      <th>MntWines</th>\n",
       "      <th>...</th>\n",
       "      <th>NumWebVisitsMonth</th>\n",
       "      <th>AcceptedCmp3</th>\n",
       "      <th>AcceptedCmp4</th>\n",
       "      <th>AcceptedCmp5</th>\n",
       "      <th>AcceptedCmp1</th>\n",
       "      <th>AcceptedCmp2</th>\n",
       "      <th>Complain</th>\n",
       "      <th>Z_CostContact</th>\n",
       "      <th>Z_Revenue</th>\n",
       "      <th>Response</th>\n",
       "    </tr>\n",
       "  </thead>\n",
       "  <tbody>\n",
       "    <tr>\n",
       "      <th>2235</th>\n",
       "      <td>10870</td>\n",
       "      <td>1967</td>\n",
       "      <td>Graduation</td>\n",
       "      <td>Married</td>\n",
       "      <td>61223.0</td>\n",
       "      <td>0</td>\n",
       "      <td>1</td>\n",
       "      <td>13-06-2013</td>\n",
       "      <td>46</td>\n",
       "      <td>709</td>\n",
       "      <td>...</td>\n",
       "      <td>5</td>\n",
       "      <td>0</td>\n",
       "      <td>0</td>\n",
       "      <td>0</td>\n",
       "      <td>0</td>\n",
       "      <td>0</td>\n",
       "      <td>0</td>\n",
       "      <td>3</td>\n",
       "      <td>11</td>\n",
       "      <td>0</td>\n",
       "    </tr>\n",
       "    <tr>\n",
       "      <th>2236</th>\n",
       "      <td>4001</td>\n",
       "      <td>1946</td>\n",
       "      <td>PhD</td>\n",
       "      <td>Together</td>\n",
       "      <td>64014.0</td>\n",
       "      <td>2</td>\n",
       "      <td>1</td>\n",
       "      <td>10-06-2014</td>\n",
       "      <td>56</td>\n",
       "      <td>406</td>\n",
       "      <td>...</td>\n",
       "      <td>7</td>\n",
       "      <td>0</td>\n",
       "      <td>0</td>\n",
       "      <td>0</td>\n",
       "      <td>1</td>\n",
       "      <td>0</td>\n",
       "      <td>0</td>\n",
       "      <td>3</td>\n",
       "      <td>11</td>\n",
       "      <td>0</td>\n",
       "    </tr>\n",
       "    <tr>\n",
       "      <th>2237</th>\n",
       "      <td>7270</td>\n",
       "      <td>1981</td>\n",
       "      <td>Graduation</td>\n",
       "      <td>Divorced</td>\n",
       "      <td>56981.0</td>\n",
       "      <td>0</td>\n",
       "      <td>0</td>\n",
       "      <td>25-01-2014</td>\n",
       "      <td>91</td>\n",
       "      <td>908</td>\n",
       "      <td>...</td>\n",
       "      <td>6</td>\n",
       "      <td>0</td>\n",
       "      <td>1</td>\n",
       "      <td>0</td>\n",
       "      <td>0</td>\n",
       "      <td>0</td>\n",
       "      <td>0</td>\n",
       "      <td>3</td>\n",
       "      <td>11</td>\n",
       "      <td>0</td>\n",
       "    </tr>\n",
       "    <tr>\n",
       "      <th>2238</th>\n",
       "      <td>8235</td>\n",
       "      <td>1956</td>\n",
       "      <td>Master</td>\n",
       "      <td>Together</td>\n",
       "      <td>69245.0</td>\n",
       "      <td>0</td>\n",
       "      <td>1</td>\n",
       "      <td>24-01-2014</td>\n",
       "      <td>8</td>\n",
       "      <td>428</td>\n",
       "      <td>...</td>\n",
       "      <td>3</td>\n",
       "      <td>0</td>\n",
       "      <td>0</td>\n",
       "      <td>0</td>\n",
       "      <td>0</td>\n",
       "      <td>0</td>\n",
       "      <td>0</td>\n",
       "      <td>3</td>\n",
       "      <td>11</td>\n",
       "      <td>0</td>\n",
       "    </tr>\n",
       "    <tr>\n",
       "      <th>2239</th>\n",
       "      <td>9405</td>\n",
       "      <td>1954</td>\n",
       "      <td>PhD</td>\n",
       "      <td>Married</td>\n",
       "      <td>52869.0</td>\n",
       "      <td>1</td>\n",
       "      <td>1</td>\n",
       "      <td>15-10-2012</td>\n",
       "      <td>40</td>\n",
       "      <td>84</td>\n",
       "      <td>...</td>\n",
       "      <td>7</td>\n",
       "      <td>0</td>\n",
       "      <td>0</td>\n",
       "      <td>0</td>\n",
       "      <td>0</td>\n",
       "      <td>0</td>\n",
       "      <td>0</td>\n",
       "      <td>3</td>\n",
       "      <td>11</td>\n",
       "      <td>1</td>\n",
       "    </tr>\n",
       "  </tbody>\n",
       "</table>\n",
       "<p>5 rows × 29 columns</p>\n",
       "</div>"
      ],
      "text/plain": [
       "         ID  Year_Birth   Education Marital_Status   Income  Kidhome  \\\n",
       "2235  10870        1967  Graduation        Married  61223.0        0   \n",
       "2236   4001        1946         PhD       Together  64014.0        2   \n",
       "2237   7270        1981  Graduation       Divorced  56981.0        0   \n",
       "2238   8235        1956      Master       Together  69245.0        0   \n",
       "2239   9405        1954         PhD        Married  52869.0        1   \n",
       "\n",
       "      Teenhome Dt_Customer  Recency  MntWines  ...  NumWebVisitsMonth  \\\n",
       "2235         1  13-06-2013       46       709  ...                  5   \n",
       "2236         1  10-06-2014       56       406  ...                  7   \n",
       "2237         0  25-01-2014       91       908  ...                  6   \n",
       "2238         1  24-01-2014        8       428  ...                  3   \n",
       "2239         1  15-10-2012       40        84  ...                  7   \n",
       "\n",
       "      AcceptedCmp3  AcceptedCmp4  AcceptedCmp5  AcceptedCmp1  AcceptedCmp2  \\\n",
       "2235             0             0             0             0             0   \n",
       "2236             0             0             0             1             0   \n",
       "2237             0             1             0             0             0   \n",
       "2238             0             0             0             0             0   \n",
       "2239             0             0             0             0             0   \n",
       "\n",
       "      Complain  Z_CostContact  Z_Revenue  Response  \n",
       "2235         0              3         11         0  \n",
       "2236         0              3         11         0  \n",
       "2237         0              3         11         0  \n",
       "2238         0              3         11         0  \n",
       "2239         0              3         11         1  \n",
       "\n",
       "[5 rows x 29 columns]"
      ]
     },
     "execution_count": 6,
     "metadata": {},
     "output_type": "execute_result"
    }
   ],
   "source": [
    "df.tail()"
   ]
  },
  {
   "cell_type": "code",
   "execution_count": 5,
   "id": "3dcb1cc2-a963-46b8-9c4b-607617c26766",
   "metadata": {},
   "outputs": [
    {
     "data": {
      "text/plain": [
       "ID                       int64\n",
       "Year_Birth               int64\n",
       "Education               object\n",
       "Marital_Status          object\n",
       "Income                 float64\n",
       "Kidhome                  int64\n",
       "Teenhome                 int64\n",
       "Dt_Customer             object\n",
       "Recency                  int64\n",
       "MntWines                 int64\n",
       "MntFruits                int64\n",
       "MntMeatProducts          int64\n",
       "MntFishProducts          int64\n",
       "MntSweetProducts         int64\n",
       "MntGoldProds             int64\n",
       "NumDealsPurchases        int64\n",
       "NumWebPurchases          int64\n",
       "NumCatalogPurchases      int64\n",
       "NumStorePurchases        int64\n",
       "NumWebVisitsMonth        int64\n",
       "AcceptedCmp3             int64\n",
       "AcceptedCmp4             int64\n",
       "AcceptedCmp5             int64\n",
       "AcceptedCmp1             int64\n",
       "AcceptedCmp2             int64\n",
       "Complain                 int64\n",
       "Z_CostContact            int64\n",
       "Z_Revenue                int64\n",
       "Response                 int64\n",
       "dtype: object"
      ]
     },
     "execution_count": 5,
     "metadata": {},
     "output_type": "execute_result"
    }
   ],
   "source": [
    "df.dtypes"
   ]
  },
  {
   "cell_type": "markdown",
   "id": "3d14739d-d5b6-4d85-b409-3975094140ec",
   "metadata": {},
   "source": [
    "<span style=\"color:orange;text-align: right\"><i>📌 العمود Dt_Customer بحاجة لتحويل نوعه الى date.</i></span>\n"
   ]
  },
  {
   "cell_type": "code",
   "execution_count": 7,
   "id": "7df71841-8738-428a-9f47-97aa6108c257",
   "metadata": {},
   "outputs": [
    {
     "name": "stdout",
     "output_type": "stream",
     "text": [
      "<class 'pandas.core.frame.DataFrame'>\n",
      "RangeIndex: 2240 entries, 0 to 2239\n",
      "Data columns (total 29 columns):\n",
      " #   Column               Non-Null Count  Dtype  \n",
      "---  ------               --------------  -----  \n",
      " 0   ID                   2240 non-null   int64  \n",
      " 1   Year_Birth           2240 non-null   int64  \n",
      " 2   Education            2240 non-null   object \n",
      " 3   Marital_Status       2240 non-null   object \n",
      " 4   Income               2216 non-null   float64\n",
      " 5   Kidhome              2240 non-null   int64  \n",
      " 6   Teenhome             2240 non-null   int64  \n",
      " 7   Dt_Customer          2240 non-null   object \n",
      " 8   Recency              2240 non-null   int64  \n",
      " 9   MntWines             2240 non-null   int64  \n",
      " 10  MntFruits            2240 non-null   int64  \n",
      " 11  MntMeatProducts      2240 non-null   int64  \n",
      " 12  MntFishProducts      2240 non-null   int64  \n",
      " 13  MntSweetProducts     2240 non-null   int64  \n",
      " 14  MntGoldProds         2240 non-null   int64  \n",
      " 15  NumDealsPurchases    2240 non-null   int64  \n",
      " 16  NumWebPurchases      2240 non-null   int64  \n",
      " 17  NumCatalogPurchases  2240 non-null   int64  \n",
      " 18  NumStorePurchases    2240 non-null   int64  \n",
      " 19  NumWebVisitsMonth    2240 non-null   int64  \n",
      " 20  AcceptedCmp3         2240 non-null   int64  \n",
      " 21  AcceptedCmp4         2240 non-null   int64  \n",
      " 22  AcceptedCmp5         2240 non-null   int64  \n",
      " 23  AcceptedCmp1         2240 non-null   int64  \n",
      " 24  AcceptedCmp2         2240 non-null   int64  \n",
      " 25  Complain             2240 non-null   int64  \n",
      " 26  Z_CostContact        2240 non-null   int64  \n",
      " 27  Z_Revenue            2240 non-null   int64  \n",
      " 28  Response             2240 non-null   int64  \n",
      "dtypes: float64(1), int64(25), object(3)\n",
      "memory usage: 507.6+ KB\n"
     ]
    }
   ],
   "source": [
    "df.info()"
   ]
  },
  {
   "cell_type": "code",
   "execution_count": 8,
   "id": "2716dbc3-6068-4ec4-9a16-c181a7cb2d94",
   "metadata": {},
   "outputs": [
    {
     "data": {
      "text/plain": [
       "Income                 1.071429\n",
       "ID                     0.000000\n",
       "Year_Birth             0.000000\n",
       "Education              0.000000\n",
       "Marital_Status         0.000000\n",
       "Kidhome                0.000000\n",
       "Teenhome               0.000000\n",
       "Dt_Customer            0.000000\n",
       "Recency                0.000000\n",
       "MntWines               0.000000\n",
       "MntFruits              0.000000\n",
       "MntMeatProducts        0.000000\n",
       "MntFishProducts        0.000000\n",
       "MntSweetProducts       0.000000\n",
       "MntGoldProds           0.000000\n",
       "NumDealsPurchases      0.000000\n",
       "NumWebPurchases        0.000000\n",
       "NumCatalogPurchases    0.000000\n",
       "NumStorePurchases      0.000000\n",
       "NumWebVisitsMonth      0.000000\n",
       "AcceptedCmp3           0.000000\n",
       "AcceptedCmp4           0.000000\n",
       "AcceptedCmp5           0.000000\n",
       "AcceptedCmp1           0.000000\n",
       "AcceptedCmp2           0.000000\n",
       "Complain               0.000000\n",
       "Z_CostContact          0.000000\n",
       "Z_Revenue              0.000000\n",
       "Response               0.000000\n",
       "dtype: float64"
      ]
     },
     "execution_count": 8,
     "metadata": {},
     "output_type": "execute_result"
    }
   ],
   "source": [
    "df.isna().mean().sort_values(ascending=False) * 100"
   ]
  },
  {
   "cell_type": "markdown",
   "id": "5cf37803-f4bf-4525-bf40-6b65832dc966",
   "metadata": {},
   "source": [
    "<span style=\"color:orange\"><i>📌 لا يوجد خلايا خالية.</i></span>\n"
   ]
  },
  {
   "cell_type": "code",
   "execution_count": 9,
   "id": "22b8f4ff-44ae-49df-ac81-21be221c7ec6",
   "metadata": {},
   "outputs": [],
   "source": [
    "def fix_numeric_column_inplace(df, column_name, verbose=True):\n",
    "    print(f\"Checking column: {column_name}\")\n",
    "    numeric_series = pd.to_numeric(df[column_name], errors='coerce')\n",
    "    invalid_mask = numeric_series.isna() & df[column_name].notna()\n",
    "    invalid_values = df.loc[invalid_mask, column_name]\n",
    "    if verbose and not invalid_values.empty:\n",
    "        print(f\"\\n⚠️ Invalid or non-numeric values found in column '{column_name}':\")\n",
    "        print(invalid_values)\n",
    "        print(f\"📌 Total values converted to NaN: {len(invalid_values)}\\n\")\n",
    "    else:\n",
    "        print(f\"✅ All values in column '{column_name}' are numeric.\\n\")\n",
    "    df[column_name] = numeric_series"
   ]
  },
  {
   "cell_type": "code",
   "execution_count": 10,
   "id": "b9ea24d6-2275-468b-a07a-9e348f91e9b0",
   "metadata": {},
   "outputs": [
    {
     "name": "stdout",
     "output_type": "stream",
     "text": [
      "Checking column: ID\n",
      "✅ All values in column 'ID' are numeric.\n",
      "\n",
      "Checking column: Year_Birth\n",
      "✅ All values in column 'Year_Birth' are numeric.\n",
      "\n",
      "Checking column: Income\n",
      "✅ All values in column 'Income' are numeric.\n",
      "\n",
      "Checking column: Kidhome\n",
      "✅ All values in column 'Kidhome' are numeric.\n",
      "\n",
      "Checking column: Teenhome\n",
      "✅ All values in column 'Teenhome' are numeric.\n",
      "\n",
      "Checking column: Recency\n",
      "✅ All values in column 'Recency' are numeric.\n",
      "\n",
      "Checking column: MntWines\n",
      "✅ All values in column 'MntWines' are numeric.\n",
      "\n",
      "Checking column: MntFruits\n",
      "✅ All values in column 'MntFruits' are numeric.\n",
      "\n",
      "Checking column: MntMeatProducts\n",
      "✅ All values in column 'MntMeatProducts' are numeric.\n",
      "\n",
      "Checking column: MntFishProducts\n",
      "✅ All values in column 'MntFishProducts' are numeric.\n",
      "\n",
      "Checking column: MntSweetProducts\n",
      "✅ All values in column 'MntSweetProducts' are numeric.\n",
      "\n",
      "Checking column: MntGoldProds\n",
      "✅ All values in column 'MntGoldProds' are numeric.\n",
      "\n",
      "Checking column: NumDealsPurchases\n",
      "✅ All values in column 'NumDealsPurchases' are numeric.\n",
      "\n",
      "Checking column: NumWebPurchases\n",
      "✅ All values in column 'NumWebPurchases' are numeric.\n",
      "\n",
      "Checking column: NumCatalogPurchases\n",
      "✅ All values in column 'NumCatalogPurchases' are numeric.\n",
      "\n",
      "Checking column: NumStorePurchases\n",
      "✅ All values in column 'NumStorePurchases' are numeric.\n",
      "\n",
      "Checking column: NumWebVisitsMonth\n",
      "✅ All values in column 'NumWebVisitsMonth' are numeric.\n",
      "\n",
      "Checking column: AcceptedCmp3\n",
      "✅ All values in column 'AcceptedCmp3' are numeric.\n",
      "\n",
      "Checking column: AcceptedCmp4\n",
      "✅ All values in column 'AcceptedCmp4' are numeric.\n",
      "\n",
      "Checking column: AcceptedCmp5\n",
      "✅ All values in column 'AcceptedCmp5' are numeric.\n",
      "\n",
      "Checking column: AcceptedCmp1\n",
      "✅ All values in column 'AcceptedCmp1' are numeric.\n",
      "\n",
      "Checking column: AcceptedCmp2\n",
      "✅ All values in column 'AcceptedCmp2' are numeric.\n",
      "\n",
      "Checking column: Complain\n",
      "✅ All values in column 'Complain' are numeric.\n",
      "\n",
      "Checking column: Z_CostContact\n",
      "✅ All values in column 'Z_CostContact' are numeric.\n",
      "\n",
      "Checking column: Z_Revenue\n",
      "✅ All values in column 'Z_Revenue' are numeric.\n",
      "\n",
      "Checking column: Response\n",
      "✅ All values in column 'Response' are numeric.\n",
      "\n"
     ]
    }
   ],
   "source": [
    "numeric_cols = df.select_dtypes(include=[\"int\", \"float\"]).columns.tolist()\n",
    "for col in numeric_cols:\n",
    "    fix_numeric_column_inplace(df, col)"
   ]
  },
  {
   "cell_type": "markdown",
   "id": "da79e4ee-36c1-40a7-ae74-ae1ed9a1492d",
   "metadata": {},
   "source": [
    "<span style=\"color:orange\"><i>📌 لا توجد أعمدة بحاجة الى تنظيف أو قيم خالية تحتاج الى معالجة.</i></span>"
   ]
  },
  {
   "cell_type": "code",
   "execution_count": 11,
   "id": "18ba741e-26f9-47ee-9985-48ce7059eee6",
   "metadata": {},
   "outputs": [],
   "source": [
    "summary = df.describe()\n",
    "summary.to_excel('summary_statistics.xlsx')"
   ]
  },
  {
   "cell_type": "markdown",
   "id": "822dad22-3ce7-499a-b0ef-e5d6249ca947",
   "metadata": {},
   "source": [
    "<span style=\"color:orange\"><i>📌there are Possible Outlier data in columns : Income - MntWines - MntFruits - MntMeatProducts - MntFishProducts - MntSweetProducts- MntGoldProds - NumDealsPurchases - NumWebPurchases - NumCatalogPurchases - NumWebVisitsMonth.</i></span></br>"
   ]
  },
  {
   "cell_type": "code",
   "execution_count": 12,
   "id": "2105b2f0-a3b4-4744-a6db-aad8463e1dbf",
   "metadata": {},
   "outputs": [],
   "source": [
    "def detect_outliers_iqr(df, column, verbose=True):\n",
    "     Q1 = df[column].quantile(0.25)\n",
    "     Q3 = df[column].quantile(0.75)\n",
    "     IQR = Q3 - Q1\n",
    "\n",
    "     lower_bound = Q1 - 1.5 * IQR\n",
    "     upper_bound = Q3 + 1.5 * IQR\n",
    "     outliers = df[(df[column] < lower_bound) | (df[column] > upper_bound)]\n",
    "\n",
    "     if verbose:\n",
    "         print(f\"Column: '{column}'\")\n",
    "         print(f\"Q1 = {Q1}, Q3 = {Q3}, IQR = {IQR}\")\n",
    "         print(f\"Outlier range: < {lower_bound:.2f} or > {upper_bound:.2f}\")\n",
    "         print(f\"Found {len(outliers)} outlier(s)\\n\")\n",
    "\n",
    "     return outliers"
   ]
  },
  {
   "cell_type": "code",
   "execution_count": 13,
   "id": "153b6155-756f-4288-ab89-3b18aa4ac12c",
   "metadata": {},
   "outputs": [
    {
     "name": "stdout",
     "output_type": "stream",
     "text": [
      "Column: 'Income'\n",
      "Q1 = 35303.0, Q3 = 68522.0, IQR = 33219.0\n",
      "Outlier range: < -14525.50 or > 118350.50\n",
      "Found 8 outlier(s)\n",
      "\n",
      "Column: 'MntWines'\n",
      "Q1 = 23.75, Q3 = 504.25, IQR = 480.5\n",
      "Outlier range: < -697.00 or > 1225.00\n",
      "Found 35 outlier(s)\n",
      "\n",
      "Column: 'MntFruits'\n",
      "Q1 = 1.0, Q3 = 33.0, IQR = 32.0\n",
      "Outlier range: < -47.00 or > 81.00\n",
      "Found 227 outlier(s)\n",
      "\n",
      "Column: 'MntMeatProducts'\n",
      "Q1 = 16.0, Q3 = 232.0, IQR = 216.0\n",
      "Outlier range: < -308.00 or > 556.00\n",
      "Found 175 outlier(s)\n",
      "\n",
      "Column: 'MntFishProducts'\n",
      "Q1 = 3.0, Q3 = 50.0, IQR = 47.0\n",
      "Outlier range: < -67.50 or > 120.50\n",
      "Found 223 outlier(s)\n",
      "\n",
      "Column: 'MntSweetProducts'\n",
      "Q1 = 1.0, Q3 = 33.0, IQR = 32.0\n",
      "Outlier range: < -47.00 or > 81.00\n",
      "Found 248 outlier(s)\n",
      "\n",
      "Column: 'MntGoldProds'\n",
      "Q1 = 9.0, Q3 = 56.0, IQR = 47.0\n",
      "Outlier range: < -61.50 or > 126.50\n",
      "Found 207 outlier(s)\n",
      "\n",
      "Column: 'NumDealsPurchases'\n",
      "Q1 = 1.0, Q3 = 3.0, IQR = 2.0\n",
      "Outlier range: < -2.00 or > 6.00\n",
      "Found 86 outlier(s)\n",
      "\n",
      "Column: 'NumWebPurchases'\n",
      "Q1 = 2.0, Q3 = 6.0, IQR = 4.0\n",
      "Outlier range: < -4.00 or > 12.00\n",
      "Found 4 outlier(s)\n",
      "\n",
      "Column: 'NumCatalogPurchases'\n",
      "Q1 = 0.0, Q3 = 4.0, IQR = 4.0\n",
      "Outlier range: < -6.00 or > 10.00\n",
      "Found 23 outlier(s)\n",
      "\n",
      "Column: 'NumWebVisitsMonth'\n",
      "Q1 = 3.0, Q3 = 7.0, IQR = 4.0\n",
      "Outlier range: < -3.00 or > 13.00\n",
      "Found 8 outlier(s)\n",
      "\n"
     ]
    }
   ],
   "source": [
    "numeric_cols_for_outliers = df.select_dtypes(include=['int','float']).columns.tolist()\n",
    "exclude_cols = ['ID', 'Year_Birth','Kidhome','Teenhome','Recency','NumStorePurchases','AcceptedCmp3','AcceptedCmp4',\n",
    " 'AcceptedCmp5','AcceptedCmp1','AcceptedCmp2','Complain','Z_CostContact','Z_Revenue','Response']\n",
    "numeric_cols_for_outliers = [col for col in numeric_cols_for_outliers if col not in exclude_cols]\n",
    "for col in numeric_cols_for_outliers:\n",
    "    detect_outliers_iqr(df,col)"
   ]
  },
  {
   "cell_type": "markdown",
   "id": "565aca60-61a1-4409-bebe-7369d5f4b9a9",
   "metadata": {},
   "source": [
    "### 📋 إضافة عمود عمر العميل / تحويل عمود تاريخ الانضمام الى نوع تاريخ "
   ]
  },
  {
   "cell_type": "code",
   "execution_count": 14,
   "id": "2ad40e9a-6b58-470a-9d2c-70f6f337b108",
   "metadata": {},
   "outputs": [],
   "source": [
    "from datetime import datetime\n",
    "df['Age'] = datetime.now().year - df['Year_Birth']"
   ]
  },
  {
   "cell_type": "code",
   "execution_count": 15,
   "id": "c7345f67-b09a-47b7-8c4a-00d6d4bc7fd8",
   "metadata": {},
   "outputs": [
    {
     "data": {
      "text/plain": [
       "Age\n",
       "29      2\n",
       "30      5\n",
       "31      3\n",
       "32      5\n",
       "33     13\n",
       "34     15\n",
       "35     18\n",
       "36     30\n",
       "37     29\n",
       "38     27\n",
       "39     42\n",
       "40     32\n",
       "41     38\n",
       "42     42\n",
       "43     45\n",
       "44     39\n",
       "45     39\n",
       "46     53\n",
       "47     77\n",
       "48     52\n",
       "49     89\n",
       "50     83\n",
       "51     69\n",
       "52     74\n",
       "53     79\n",
       "54     87\n",
       "55     77\n",
       "56     71\n",
       "57     51\n",
       "58     44\n",
       "59     50\n",
       "60     74\n",
       "61     42\n",
       "62     45\n",
       "63     44\n",
       "64     36\n",
       "65     49\n",
       "66     51\n",
       "67     53\n",
       "68     43\n",
       "69     55\n",
       "70     49\n",
       "71     50\n",
       "72     35\n",
       "73     52\n",
       "74     43\n",
       "75     29\n",
       "76     30\n",
       "77     21\n",
       "78     16\n",
       "79     16\n",
       "80      8\n",
       "81      7\n",
       "82      7\n",
       "84      1\n",
       "85      1\n",
       "125     1\n",
       "126     1\n",
       "132     1\n",
       "Name: count, dtype: int64"
      ]
     },
     "execution_count": 15,
     "metadata": {},
     "output_type": "execute_result"
    }
   ],
   "source": [
    "df.value_counts('Age').sort_index()"
   ]
  },
  {
   "cell_type": "markdown",
   "id": "3d8b8484-640f-4919-afa5-93161691cdf6",
   "metadata": {},
   "source": [
    "<span style=\"color:orange\"><i>📌 هناك قيم متطرفة في أعمار العملاء تحديداً الأعمار التي فوق المئة سنة ومن الأفضل حذفها لكي لا تؤثر على خطوات التحليل القادمة.</i></span>"
   ]
  },
  {
   "cell_type": "code",
   "execution_count": 16,
   "id": "87be7be0-08e8-4d39-a0a4-f402268a6dbf",
   "metadata": {},
   "outputs": [],
   "source": [
    "df['Dt_Customer'] = pd.to_datetime(df['Dt_Customer'],dayfirst=True)"
   ]
  },
  {
   "cell_type": "markdown",
   "id": "0ecd10a4-d3de-4ed4-b5da-f83628f03cff",
   "metadata": {},
   "source": [
    "### 📋 تحليل أولي لعدد القيم الفريدة في بعض الأعمدة النوعية"
   ]
  },
  {
   "cell_type": "code",
   "execution_count": 18,
   "id": "6e014a4a-2f2a-4a54-9e99-c4fcb4117681",
   "metadata": {},
   "outputs": [
    {
     "data": {
      "image/png": "[encoded data removed]",
      "text/plain": [
       "<Figure size 640x480 with 1 Axes>"
      ]
     },
     "metadata": {},
     "output_type": "display_data"
    }
   ],
   "source": [
    "order = df['Education'].value_counts().index\n",
    "ax = sns.countplot(data=df,x='Education',order=order)\n",
    "for p in ax.patches:\n",
    "    ax.text(p.get_x() + p.get_width()/2,\n",
    "            p.get_height() + 1,                # موضع النص فوق العمود\n",
    "            int(p.get_height()),               # عدد التكرارات\n",
    "            ha='center')\n",
    "plt.title(\"Education (with Counts)\")\n",
    "plt.tight_layout()"
   ]
  },
  {
   "cell_type": "code",
   "execution_count": 19,
   "id": "20266ca3-d7e3-4999-ab1d-6e4a1b5fbab7",
   "metadata": {},
   "outputs": [
    {
     "data": {
      "image/png": "[encoded data removed]",
      "text/plain": [
       "<Figure size 640x480 with 1 Axes>"
      ]
     },
     "metadata": {},
     "output_type": "display_data"
    }
   ],
   "source": [
    "order = df['Marital_Status'].value_counts().index\n",
    "ax = sns.countplot(data=df,x='Marital_Status',order=order)\n",
    "for p in ax.patches:\n",
    "    ax.text(p.get_x() + p.get_width()/2,\n",
    "            p.get_height() + 1,                # موضع النص فوق العمود\n",
    "            int(p.get_height()),               # عدد التكرارات\n",
    "            ha='center')\n",
    "plt.title(\"Marital Status (with Counts)\")\n",
    "plt.tight_layout()"
   ]
  },
  {
   "cell_type": "code",
   "execution_count": 20,
   "id": "3817c187-a80f-4331-93b9-ddb03e5614a0",
   "metadata": {},
   "outputs": [],
   "source": [
    "df['Response'] = df['Response'].replace({0:'No',1:'Yes'})\n",
    "df['Complain'] = df['Complain'].map({0:'No',1:'Yes'})"
   ]
  },
  {
   "cell_type": "code",
   "execution_count": 21,
   "id": "95550de1-bd3c-4230-969d-47c82ec389bc",
   "metadata": {},
   "outputs": [
    {
     "data": {
      "image/png": "[encoded data removed]",
      "text/plain": [
       "<Figure size 640x480 with 1 Axes>"
      ]
     },
     "metadata": {},
     "output_type": "display_data"
    }
   ],
   "source": [
    "order = df['Response'].value_counts().index\n",
    "ax = sns.countplot(data=df,x='Response',order=order)\n",
    "for p in ax.patches:\n",
    "    ax.text(p.get_x() + p.get_width()/2,\n",
    "            p.get_height() + 1,                # موضع النص فوق العمود\n",
    "            int(p.get_height()),               # عدد التكرارات\n",
    "            ha='center')\n",
    "plt.title(\"Response (with Counts)\")\n",
    "plt.tight_layout()"
   ]
  },
  {
   "cell_type": "code",
   "execution_count": 22,
   "id": "8624f91d-ce54-43b5-9356-018ab44f34bb",
   "metadata": {},
   "outputs": [
    {
     "data": {
      "image/png": "[encoded data removed]",
      "text/plain": [
       "<Figure size 640x480 with 1 Axes>"
      ]
     },
     "metadata": {},
     "output_type": "display_data"
    }
   ],
   "source": [
    "order = df['Complain'].value_counts().index\n",
    "ax = sns.countplot(data=df,x='Complain',order=order)\n",
    "for p in ax.patches:\n",
    "    ax.text(p.get_x() + p.get_width()/2,\n",
    "            p.get_height() + 1,                # موضع النص فوق العمود\n",
    "            int(p.get_height()),               # عدد التكرارات\n",
    "            ha='center')\n",
    "plt.title(\"Complain (with Counts)\")\n",
    "plt.tight_layout()"
   ]
  },
  {
   "cell_type": "markdown",
   "id": "5e1585b7-0e48-47b0-8e29-62afa7dbc1a1",
   "metadata": {},
   "source": [
    "### 🔍 التحقق من القيم المفقودة والمكررة"
   ]
  },
  {
   "cell_type": "code",
   "execution_count": 23,
   "id": "ac3fafdb-e904-44a5-a086-46663c48a733",
   "metadata": {},
   "outputs": [],
   "source": [
    "df = df[~df['Income'].isna()]\n",
    "df = df.reset_index(drop=True)"
   ]
  },
  {
   "cell_type": "markdown",
   "id": "93026497-50ec-435b-941e-6304ae85e421",
   "metadata": {},
   "source": [
    "<span style=\"color:orange\"><i>📌 قمت بحذف الأسطر التي تحوي على قيم income خالية لأن دخل العميل أساسي جداُ في الكثير من التحليلات اللاحقة من جهة ومن جهة أخرى هناك توزيع متساوي تقريباً للفئات في الأسطر المحذوفة بالنسبة لأعمدة التعليم والحالة الاجتماعية أي أنه لن يسبب تحيزاً لفئة دون فئة.</i></span>"
   ]
  },
  {
   "cell_type": "code",
   "execution_count": 24,
   "id": "fd657381-8a6a-4756-957c-de2165a7d72b",
   "metadata": {},
   "outputs": [
    {
     "data": {
      "text/plain": [
       "ID                     0\n",
       "Year_Birth             0\n",
       "Education              0\n",
       "Marital_Status         0\n",
       "Income                 0\n",
       "Kidhome                0\n",
       "Teenhome               0\n",
       "Dt_Customer            0\n",
       "Recency                0\n",
       "MntWines               0\n",
       "MntFruits              0\n",
       "MntMeatProducts        0\n",
       "MntFishProducts        0\n",
       "MntSweetProducts       0\n",
       "MntGoldProds           0\n",
       "NumDealsPurchases      0\n",
       "NumWebPurchases        0\n",
       "NumCatalogPurchases    0\n",
       "NumStorePurchases      0\n",
       "NumWebVisitsMonth      0\n",
       "AcceptedCmp3           0\n",
       "AcceptedCmp4           0\n",
       "AcceptedCmp5           0\n",
       "AcceptedCmp1           0\n",
       "AcceptedCmp2           0\n",
       "Complain               0\n",
       "Z_CostContact          0\n",
       "Z_Revenue              0\n",
       "Response               0\n",
       "Age                    0\n",
       "dtype: int64"
      ]
     },
     "execution_count": 24,
     "metadata": {},
     "output_type": "execute_result"
    }
   ],
   "source": [
    "df.isna().sum()"
   ]
  },
  {
   "cell_type": "markdown",
   "id": "44384562-e65f-4b50-a084-d25bda500d47",
   "metadata": {},
   "source": [
    "<span style=\"color:orange\"><i>📌 لا يوجد قيم خالية في بقية الأعمدة.</i></span>"
   ]
  },
  {
   "cell_type": "markdown",
   "id": "2533dd50-dd2d-4f14-b9cb-209ee207066b",
   "metadata": {},
   "source": [
    "### 📋 تبسيط القيم في الأعمدة النوعية"
   ]
  },
  {
   "cell_type": "code",
   "execution_count": 25,
   "id": "bca6f78f-b919-48f9-bc5c-49d8288a850e",
   "metadata": {},
   "outputs": [],
   "source": [
    "df_original = df.copy()"
   ]
  },
  {
   "cell_type": "code",
   "execution_count": 26,
   "id": "e5402045-41e8-4f41-8ef6-642addc75e58",
   "metadata": {},
   "outputs": [],
   "source": [
    "df['Marital_Status'] = df['Marital_Status'].replace({'Alone':'Other','Absurd':'Other','YOLO':'Other'})"
   ]
  },
  {
   "cell_type": "markdown",
   "id": "ca6110bc-09eb-4942-b219-b6ccbd89ea37",
   "metadata": {},
   "source": [
    "### 📋 حذف الأعمار المتطرفة من العمود Year_Birth"
   ]
  },
  {
   "cell_type": "code",
   "execution_count": 27,
   "id": "4e187fdc-9c87-4836-86c8-75f184f22d38",
   "metadata": {},
   "outputs": [],
   "source": [
    "df_original_2 = df.copy()"
   ]
  },
  {
   "cell_type": "code",
   "execution_count": 28,
   "id": "2058b737-8338-4567-8c67-3e0327b01b6e",
   "metadata": {},
   "outputs": [],
   "source": [
    "df = df[df['Age'] < 100]\n",
    "df = df.reset_index(drop=True)"
   ]
  },
  {
   "cell_type": "markdown",
   "id": "029563f3-99c7-4cef-a5c5-1603d3ddf5f8",
   "metadata": {},
   "source": [
    "<span style=\"color:orange\"><i>📌 قمت بحذف ثلاثة أسطر لعملاء أعمارهم فوق المئة بسبب أنها غير منطقية.</i></span>"
   ]
  },
  {
   "cell_type": "markdown",
   "id": "5bf5b09e-c9be-408c-8bb2-f40759d426db",
   "metadata": {},
   "source": [
    "### 📋 Age_Group اضافة عمود التصنيفات العمرية لتسهيل التحليلات المقارنة"
   ]
  },
  {
   "cell_type": "code",
   "execution_count": 29,
   "id": "1734a07e-936e-432d-8c08-7b37d8bd6108",
   "metadata": {},
   "outputs": [],
   "source": [
    "df['Age_Group'] = pd.cut(df['Age'], bins=[17, 30, 45, 60, 100], labels=[\"18-30\", \"31-45\", \"46-60\", \"60+\"])"
   ]
  },
  {
   "cell_type": "code",
   "execution_count": 30,
   "id": "c9155453-45f9-4738-9add-631d8c0bf648",
   "metadata": {},
   "outputs": [
    {
     "data": {
      "text/html": [
       "<div>\n",
       "<style scoped>\n",
       "    .dataframe tbody tr th:only-of-type {\n",
       "        vertical-align: middle;\n",
       "    }\n",
       "\n",
       "    .dataframe tbody tr th {\n",
       "        vertical-align: top;\n",
       "    }\n",
       "\n",
       "    .dataframe thead th {\n",
       "        text-align: right;\n",
       "    }\n",
       "</style>\n",
       "<table border=\"1\" class=\"dataframe\">\n",
       "  <thead>\n",
       "    <tr style=\"text-align: right;\">\n",
       "      <th></th>\n",
       "      <th>ID</th>\n",
       "      <th>Year_Birth</th>\n",
       "      <th>Age</th>\n",
       "      <th>Age_Group</th>\n",
       "      <th>Education</th>\n",
       "      <th>Marital_Status</th>\n",
       "      <th>Income</th>\n",
       "      <th>Kidhome</th>\n",
       "      <th>Teenhome</th>\n",
       "      <th>Dt_Customer</th>\n",
       "      <th>...</th>\n",
       "      <th>NumWebVisitsMonth</th>\n",
       "      <th>AcceptedCmp3</th>\n",
       "      <th>AcceptedCmp4</th>\n",
       "      <th>AcceptedCmp5</th>\n",
       "      <th>AcceptedCmp1</th>\n",
       "      <th>AcceptedCmp2</th>\n",
       "      <th>Complain</th>\n",
       "      <th>Z_CostContact</th>\n",
       "      <th>Z_Revenue</th>\n",
       "      <th>Response</th>\n",
       "    </tr>\n",
       "  </thead>\n",
       "  <tbody>\n",
       "    <tr>\n",
       "      <th>0</th>\n",
       "      <td>5524</td>\n",
       "      <td>1957</td>\n",
       "      <td>68</td>\n",
       "      <td>60+</td>\n",
       "      <td>Graduation</td>\n",
       "      <td>Single</td>\n",
       "      <td>58138.0</td>\n",
       "      <td>0</td>\n",
       "      <td>0</td>\n",
       "      <td>2012-09-04</td>\n",
       "      <td>...</td>\n",
       "      <td>7</td>\n",
       "      <td>0</td>\n",
       "      <td>0</td>\n",
       "      <td>0</td>\n",
       "      <td>0</td>\n",
       "      <td>0</td>\n",
       "      <td>No</td>\n",
       "      <td>3</td>\n",
       "      <td>11</td>\n",
       "      <td>Yes</td>\n",
       "    </tr>\n",
       "    <tr>\n",
       "      <th>1</th>\n",
       "      <td>2174</td>\n",
       "      <td>1954</td>\n",
       "      <td>71</td>\n",
       "      <td>60+</td>\n",
       "      <td>Graduation</td>\n",
       "      <td>Single</td>\n",
       "      <td>46344.0</td>\n",
       "      <td>1</td>\n",
       "      <td>1</td>\n",
       "      <td>2014-03-08</td>\n",
       "      <td>...</td>\n",
       "      <td>5</td>\n",
       "      <td>0</td>\n",
       "      <td>0</td>\n",
       "      <td>0</td>\n",
       "      <td>0</td>\n",
       "      <td>0</td>\n",
       "      <td>No</td>\n",
       "      <td>3</td>\n",
       "      <td>11</td>\n",
       "      <td>No</td>\n",
       "    </tr>\n",
       "    <tr>\n",
       "      <th>2</th>\n",
       "      <td>4141</td>\n",
       "      <td>1965</td>\n",
       "      <td>60</td>\n",
       "      <td>46-60</td>\n",
       "      <td>Graduation</td>\n",
       "      <td>Together</td>\n",
       "      <td>71613.0</td>\n",
       "      <td>0</td>\n",
       "      <td>0</td>\n",
       "      <td>2013-08-21</td>\n",
       "      <td>...</td>\n",
       "      <td>4</td>\n",
       "      <td>0</td>\n",
       "      <td>0</td>\n",
       "      <td>0</td>\n",
       "      <td>0</td>\n",
       "      <td>0</td>\n",
       "      <td>No</td>\n",
       "      <td>3</td>\n",
       "      <td>11</td>\n",
       "      <td>No</td>\n",
       "    </tr>\n",
       "    <tr>\n",
       "      <th>3</th>\n",
       "      <td>6182</td>\n",
       "      <td>1984</td>\n",
       "      <td>41</td>\n",
       "      <td>31-45</td>\n",
       "      <td>Graduation</td>\n",
       "      <td>Together</td>\n",
       "      <td>26646.0</td>\n",
       "      <td>1</td>\n",
       "      <td>0</td>\n",
       "      <td>2014-02-10</td>\n",
       "      <td>...</td>\n",
       "      <td>6</td>\n",
       "      <td>0</td>\n",
       "      <td>0</td>\n",
       "      <td>0</td>\n",
       "      <td>0</td>\n",
       "      <td>0</td>\n",
       "      <td>No</td>\n",
       "      <td>3</td>\n",
       "      <td>11</td>\n",
       "      <td>No</td>\n",
       "    </tr>\n",
       "    <tr>\n",
       "      <th>4</th>\n",
       "      <td>5324</td>\n",
       "      <td>1981</td>\n",
       "      <td>44</td>\n",
       "      <td>31-45</td>\n",
       "      <td>PhD</td>\n",
       "      <td>Married</td>\n",
       "      <td>58293.0</td>\n",
       "      <td>1</td>\n",
       "      <td>0</td>\n",
       "      <td>2014-01-19</td>\n",
       "      <td>...</td>\n",
       "      <td>5</td>\n",
       "      <td>0</td>\n",
       "      <td>0</td>\n",
       "      <td>0</td>\n",
       "      <td>0</td>\n",
       "      <td>0</td>\n",
       "      <td>No</td>\n",
       "      <td>3</td>\n",
       "      <td>11</td>\n",
       "      <td>No</td>\n",
       "    </tr>\n",
       "  </tbody>\n",
       "</table>\n",
       "<p>5 rows × 31 columns</p>\n",
       "</div>"
      ],
      "text/plain": [
       "     ID  Year_Birth  Age Age_Group   Education Marital_Status   Income  \\\n",
       "0  5524        1957   68       60+  Graduation         Single  58138.0   \n",
       "1  2174        1954   71       60+  Graduation         Single  46344.0   \n",
       "2  4141        1965   60     46-60  Graduation       Together  71613.0   \n",
       "3  6182        1984   41     31-45  Graduation       Together  26646.0   \n",
       "4  5324        1981   44     31-45         PhD        Married  58293.0   \n",
       "\n",
       "   Kidhome  Teenhome Dt_Customer  ...  NumWebVisitsMonth  AcceptedCmp3  \\\n",
       "0        0         0  2012-09-04  ...                  7             0   \n",
       "1        1         1  2014-03-08  ...                  5             0   \n",
       "2        0         0  2013-08-21  ...                  4             0   \n",
       "3        1         0  2014-02-10  ...                  6             0   \n",
       "4        1         0  2014-01-19  ...                  5             0   \n",
       "\n",
       "   AcceptedCmp4  AcceptedCmp5  AcceptedCmp1  AcceptedCmp2  Complain  \\\n",
       "0             0             0             0             0        No   \n",
       "1             0             0             0             0        No   \n",
       "2             0             0             0             0        No   \n",
       "3             0             0             0             0        No   \n",
       "4             0             0             0             0        No   \n",
       "\n",
       "   Z_CostContact  Z_Revenue  Response  \n",
       "0              3         11       Yes  \n",
       "1              3         11        No  \n",
       "2              3         11        No  \n",
       "3              3         11        No  \n",
       "4              3         11        No  \n",
       "\n",
       "[5 rows x 31 columns]"
      ]
     },
     "execution_count": 30,
     "metadata": {},
     "output_type": "execute_result"
    }
   ],
   "source": [
    "col = df.pop('Age_Group')\n",
    "df.insert(2,'Age_Group',col)\n",
    "col = df.pop('Age')\n",
    "df.insert(2,'Age',col)\n",
    "df.head()"
   ]
  },
  {
   "cell_type": "code",
   "execution_count": 31,
   "id": "d874a845-55db-47ca-a68d-f877d121d7f0",
   "metadata": {},
   "outputs": [],
   "source": [
    "df.to_csv('df_dir.csv')"
   ]
  },
  {
   "cell_type": "markdown",
   "id": "7f3eacab-b154-40c0-8c1a-4a192b01e551",
   "metadata": {},
   "source": [
    "### 📋 تحليل الانفاق"
   ]
  },
  {
   "cell_type": "code",
   "execution_count": 31,
   "id": "ec072d2e-9e42-49cc-a136-74fa6b503dfe",
   "metadata": {},
   "outputs": [],
   "source": [
    "#انشاء عمود جديد لمجموع أعمدة المشتريات\n",
    "df['Total_Spent'] = df['MntWines'] + df['MntFruits'] + df['MntMeatProducts'] + df['MntFishProducts'] + df['MntSweetProducts'] + df['MntGoldProds']\n",
    "col = df.pop('Total_Spent')\n",
    "df.insert(11,'Total_Spent',col)"
   ]
  },
  {
   "cell_type": "code",
   "execution_count": 32,
   "id": "26cfddfa-e0d0-482b-b1fa-da11454e73a7",
   "metadata": {},
   "outputs": [
    {
     "data": {
      "text/plain": [
       "count    2213.000000\n",
       "mean      607.021690\n",
       "std       602.488663\n",
       "min         5.000000\n",
       "25%        69.000000\n",
       "50%       397.000000\n",
       "75%      1048.000000\n",
       "max      2525.000000\n",
       "Name: Total_Spent, dtype: float64"
      ]
     },
     "execution_count": 32,
     "metadata": {},
     "output_type": "execute_result"
    }
   ],
   "source": [
    "df['Total_Spent'].describe()"
   ]
  },
  {
   "cell_type": "markdown",
   "id": "429b1178-b6da-4653-92a2-94b64d35152a",
   "metadata": {},
   "source": [
    "<span style=\"color:orange\"><i>📌 بعد تحليل الوصف الاحصائي تبين هناك تفاوت كبير في الانفاق وهذا أمر طبيعي لأن العينة تضم فئات إجتماعية وحالات إجتماعية متعددة وهناك تفاوت كبير في الدخل وكلما ارتفع الدخل كلما زاد الانفاق خاصة عند وجود فروقات كبيرة في الدخل.</i></span>"
   ]
  },
  {
   "cell_type": "markdown",
   "id": "5ee1ef4d-bd37-497d-9168-e6c26a1c7359",
   "metadata": {},
   "source": [
    "### 📋 تحليل الانفاق وفق الحالة الاجتماعية"
   ]
  },
  {
   "cell_type": "code",
   "execution_count": 33,
   "id": "ee35977c-5b1a-485f-bdb3-6891ed2d90dd",
   "metadata": {},
   "outputs": [
    {
     "data": {
      "text/plain": [
       "<Axes: xlabel='Marital_Status', ylabel='Total_Spent'>"
      ]
     },
     "execution_count": 33,
     "metadata": {},
     "output_type": "execute_result"
    },
    {
     "data": {
      "image/png": "[encoded data removed]",
      "text/plain": [
       "<Figure size 640x480 with 1 Axes>"
      ]
     },
     "metadata": {},
     "output_type": "display_data"
    }
   ],
   "source": [
    "sns.barplot(data=df,x='Marital_Status',y='Total_Spent')"
   ]
  },
  {
   "cell_type": "markdown",
   "id": "0e16e454-71cb-44ae-a4fd-9bda4da05439",
   "metadata": {},
   "source": [
    "<span style=\"color:orange\"><i>📌 يلاحظ أن التشتت قليل في مختلف الأعمدة عدا العمود other الذي يضم عدة حالات اجتماعية والعينات الموجودة به قليلة لذلك من الطبيعي حصول هذا التشتت ومن طرف آخر يلاحظ أن نسبة الانفاق في الأعمدة متقاربة عدا العمود الذي يخص الأرامل حيث يرتفع أكثر والسبب باعتقادي أن هذه الفئة لديها انفاق زائد على الحفلات كونها أكثر تفرغاً من الأعباء العائلية.</i></span>"
   ]
  },
  {
   "cell_type": "markdown",
   "id": "717fb766-7531-46d8-8376-f6055aaeb9bb",
   "metadata": {},
   "source": [
    "### 📋 تحليل الإنفاق حسب عدد الأطفال والمراهقين"
   ]
  },
  {
   "cell_type": "code",
   "execution_count": 34,
   "id": "3530003a-174d-4df3-a2ce-fec0d02bfba7",
   "metadata": {},
   "outputs": [],
   "source": [
    "df['Total_Kids'] = df['Kidhome'] + df['Teenhome']\n",
    "col = df.pop('Total_Kids')\n",
    "df.insert(9,'Total_Kids',col)"
   ]
  },
  {
   "cell_type": "code",
   "execution_count": 35,
   "id": "887b41de-8a2f-4efa-94c5-bc561ee48f96",
   "metadata": {},
   "outputs": [
    {
     "data": {
      "text/plain": [
       "<Axes: xlabel='Total_Kids', ylabel='Total_Spent'>"
      ]
     },
     "execution_count": 35,
     "metadata": {},
     "output_type": "execute_result"
    },
    {
     "data": {
      "image/png": "[encoded data removed]",
      "text/plain": [
       "<Figure size 640x480 with 1 Axes>"
      ]
     },
     "metadata": {},
     "output_type": "display_data"
    }
   ],
   "source": [
    "avg_spend_by_kids = df.groupby('Total_Kids')['Total_Spent'].mean().reset_index(name='Total_Spent')\n",
    "sns.barplot(data=avg_spend_by_kids,x='Total_Kids',y='Total_Spent')"
   ]
  },
  {
   "cell_type": "markdown",
   "id": "387ed120-b86f-47dd-9c9b-949af0ffd077",
   "metadata": {},
   "source": [
    "<span style=\"color:orange\"><i>📌 هناك علاقة عكسية بين عدد الأولاد والانفاق بحيث تميل العائلات التي لا تملك أبناء الى الانفاق أضعاف إنفاق غيرهم بسبب إختلاف طبيعة الحياة واولويات الانفاق ولوحظ تقارب في الانفاق بين العائلات التي تملك ابنين وثلاث أبناء والسبب باعتقادي هو ازدياد الخبرة في ادارة الانفاق أو بلوغ الانفاق الدرجة القصوة حيث لا مجال لزيادة إضافية.</i></span>"
   ]
  },
  {
   "cell_type": "markdown",
   "id": "9d22429d-c0ca-415b-af88-bcbc19dad13c",
   "metadata": {},
   "source": [
    "### 📋 تحليل العلاقة بين الدخل والانفاق "
   ]
  },
  {
   "cell_type": "code",
   "execution_count": 36,
   "id": "8d37c837-0ef9-404a-9f91-40dc5ec2a659",
   "metadata": {},
   "outputs": [
    {
     "data": {
      "text/html": [
       "<div>\n",
       "<style scoped>\n",
       "    .dataframe tbody tr th:only-of-type {\n",
       "        vertical-align: middle;\n",
       "    }\n",
       "\n",
       "    .dataframe tbody tr th {\n",
       "        vertical-align: top;\n",
       "    }\n",
       "\n",
       "    .dataframe thead th {\n",
       "        text-align: right;\n",
       "    }\n",
       "</style>\n",
       "<table border=\"1\" class=\"dataframe\">\n",
       "  <thead>\n",
       "    <tr style=\"text-align: right;\">\n",
       "      <th></th>\n",
       "      <th>ID</th>\n",
       "      <th>Year_Birth</th>\n",
       "      <th>Age</th>\n",
       "      <th>Age_Group</th>\n",
       "      <th>Education</th>\n",
       "      <th>Marital_Status</th>\n",
       "      <th>Income</th>\n",
       "      <th>Kidhome</th>\n",
       "      <th>Teenhome</th>\n",
       "      <th>Total_Kids</th>\n",
       "      <th>...</th>\n",
       "      <th>NumWebVisitsMonth</th>\n",
       "      <th>AcceptedCmp3</th>\n",
       "      <th>AcceptedCmp4</th>\n",
       "      <th>AcceptedCmp5</th>\n",
       "      <th>AcceptedCmp1</th>\n",
       "      <th>AcceptedCmp2</th>\n",
       "      <th>Complain</th>\n",
       "      <th>Z_CostContact</th>\n",
       "      <th>Z_Revenue</th>\n",
       "      <th>Response</th>\n",
       "    </tr>\n",
       "  </thead>\n",
       "  <tbody>\n",
       "    <tr>\n",
       "      <th>0</th>\n",
       "      <td>5524</td>\n",
       "      <td>1957</td>\n",
       "      <td>68</td>\n",
       "      <td>60+</td>\n",
       "      <td>Graduation</td>\n",
       "      <td>Single</td>\n",
       "      <td>58138.0</td>\n",
       "      <td>0</td>\n",
       "      <td>0</td>\n",
       "      <td>0</td>\n",
       "      <td>...</td>\n",
       "      <td>7</td>\n",
       "      <td>0</td>\n",
       "      <td>0</td>\n",
       "      <td>0</td>\n",
       "      <td>0</td>\n",
       "      <td>0</td>\n",
       "      <td>No</td>\n",
       "      <td>3</td>\n",
       "      <td>11</td>\n",
       "      <td>Yes</td>\n",
       "    </tr>\n",
       "    <tr>\n",
       "      <th>1</th>\n",
       "      <td>2174</td>\n",
       "      <td>1954</td>\n",
       "      <td>71</td>\n",
       "      <td>60+</td>\n",
       "      <td>Graduation</td>\n",
       "      <td>Single</td>\n",
       "      <td>46344.0</td>\n",
       "      <td>1</td>\n",
       "      <td>1</td>\n",
       "      <td>2</td>\n",
       "      <td>...</td>\n",
       "      <td>5</td>\n",
       "      <td>0</td>\n",
       "      <td>0</td>\n",
       "      <td>0</td>\n",
       "      <td>0</td>\n",
       "      <td>0</td>\n",
       "      <td>No</td>\n",
       "      <td>3</td>\n",
       "      <td>11</td>\n",
       "      <td>No</td>\n",
       "    </tr>\n",
       "    <tr>\n",
       "      <th>2</th>\n",
       "      <td>4141</td>\n",
       "      <td>1965</td>\n",
       "      <td>60</td>\n",
       "      <td>46-60</td>\n",
       "      <td>Graduation</td>\n",
       "      <td>Together</td>\n",
       "      <td>71613.0</td>\n",
       "      <td>0</td>\n",
       "      <td>0</td>\n",
       "      <td>0</td>\n",
       "      <td>...</td>\n",
       "      <td>4</td>\n",
       "      <td>0</td>\n",
       "      <td>0</td>\n",
       "      <td>0</td>\n",
       "      <td>0</td>\n",
       "      <td>0</td>\n",
       "      <td>No</td>\n",
       "      <td>3</td>\n",
       "      <td>11</td>\n",
       "      <td>No</td>\n",
       "    </tr>\n",
       "    <tr>\n",
       "      <th>3</th>\n",
       "      <td>6182</td>\n",
       "      <td>1984</td>\n",
       "      <td>41</td>\n",
       "      <td>31-45</td>\n",
       "      <td>Graduation</td>\n",
       "      <td>Together</td>\n",
       "      <td>26646.0</td>\n",
       "      <td>1</td>\n",
       "      <td>0</td>\n",
       "      <td>1</td>\n",
       "      <td>...</td>\n",
       "      <td>6</td>\n",
       "      <td>0</td>\n",
       "      <td>0</td>\n",
       "      <td>0</td>\n",
       "      <td>0</td>\n",
       "      <td>0</td>\n",
       "      <td>No</td>\n",
       "      <td>3</td>\n",
       "      <td>11</td>\n",
       "      <td>No</td>\n",
       "    </tr>\n",
       "    <tr>\n",
       "      <th>4</th>\n",
       "      <td>5324</td>\n",
       "      <td>1981</td>\n",
       "      <td>44</td>\n",
       "      <td>31-45</td>\n",
       "      <td>PhD</td>\n",
       "      <td>Married</td>\n",
       "      <td>58293.0</td>\n",
       "      <td>1</td>\n",
       "      <td>0</td>\n",
       "      <td>1</td>\n",
       "      <td>...</td>\n",
       "      <td>5</td>\n",
       "      <td>0</td>\n",
       "      <td>0</td>\n",
       "      <td>0</td>\n",
       "      <td>0</td>\n",
       "      <td>0</td>\n",
       "      <td>No</td>\n",
       "      <td>3</td>\n",
       "      <td>11</td>\n",
       "      <td>No</td>\n",
       "    </tr>\n",
       "    <tr>\n",
       "      <th>...</th>\n",
       "      <td>...</td>\n",
       "      <td>...</td>\n",
       "      <td>...</td>\n",
       "      <td>...</td>\n",
       "      <td>...</td>\n",
       "      <td>...</td>\n",
       "      <td>...</td>\n",
       "      <td>...</td>\n",
       "      <td>...</td>\n",
       "      <td>...</td>\n",
       "      <td>...</td>\n",
       "      <td>...</td>\n",
       "      <td>...</td>\n",
       "      <td>...</td>\n",
       "      <td>...</td>\n",
       "      <td>...</td>\n",
       "      <td>...</td>\n",
       "      <td>...</td>\n",
       "      <td>...</td>\n",
       "      <td>...</td>\n",
       "      <td>...</td>\n",
       "    </tr>\n",
       "    <tr>\n",
       "      <th>2200</th>\n",
       "      <td>10870</td>\n",
       "      <td>1967</td>\n",
       "      <td>58</td>\n",
       "      <td>46-60</td>\n",
       "      <td>Graduation</td>\n",
       "      <td>Married</td>\n",
       "      <td>61223.0</td>\n",
       "      <td>0</td>\n",
       "      <td>1</td>\n",
       "      <td>1</td>\n",
       "      <td>...</td>\n",
       "      <td>5</td>\n",
       "      <td>0</td>\n",
       "      <td>0</td>\n",
       "      <td>0</td>\n",
       "      <td>0</td>\n",
       "      <td>0</td>\n",
       "      <td>No</td>\n",
       "      <td>3</td>\n",
       "      <td>11</td>\n",
       "      <td>No</td>\n",
       "    </tr>\n",
       "    <tr>\n",
       "      <th>2201</th>\n",
       "      <td>4001</td>\n",
       "      <td>1946</td>\n",
       "      <td>79</td>\n",
       "      <td>60+</td>\n",
       "      <td>PhD</td>\n",
       "      <td>Together</td>\n",
       "      <td>64014.0</td>\n",
       "      <td>2</td>\n",
       "      <td>1</td>\n",
       "      <td>3</td>\n",
       "      <td>...</td>\n",
       "      <td>7</td>\n",
       "      <td>0</td>\n",
       "      <td>0</td>\n",
       "      <td>0</td>\n",
       "      <td>1</td>\n",
       "      <td>0</td>\n",
       "      <td>No</td>\n",
       "      <td>3</td>\n",
       "      <td>11</td>\n",
       "      <td>No</td>\n",
       "    </tr>\n",
       "    <tr>\n",
       "      <th>2202</th>\n",
       "      <td>7270</td>\n",
       "      <td>1981</td>\n",
       "      <td>44</td>\n",
       "      <td>31-45</td>\n",
       "      <td>Graduation</td>\n",
       "      <td>Divorced</td>\n",
       "      <td>56981.0</td>\n",
       "      <td>0</td>\n",
       "      <td>0</td>\n",
       "      <td>0</td>\n",
       "      <td>...</td>\n",
       "      <td>6</td>\n",
       "      <td>0</td>\n",
       "      <td>1</td>\n",
       "      <td>0</td>\n",
       "      <td>0</td>\n",
       "      <td>0</td>\n",
       "      <td>No</td>\n",
       "      <td>3</td>\n",
       "      <td>11</td>\n",
       "      <td>No</td>\n",
       "    </tr>\n",
       "    <tr>\n",
       "      <th>2203</th>\n",
       "      <td>8235</td>\n",
       "      <td>1956</td>\n",
       "      <td>69</td>\n",
       "      <td>60+</td>\n",
       "      <td>Master</td>\n",
       "      <td>Together</td>\n",
       "      <td>69245.0</td>\n",
       "      <td>0</td>\n",
       "      <td>1</td>\n",
       "      <td>1</td>\n",
       "      <td>...</td>\n",
       "      <td>3</td>\n",
       "      <td>0</td>\n",
       "      <td>0</td>\n",
       "      <td>0</td>\n",
       "      <td>0</td>\n",
       "      <td>0</td>\n",
       "      <td>No</td>\n",
       "      <td>3</td>\n",
       "      <td>11</td>\n",
       "      <td>No</td>\n",
       "    </tr>\n",
       "    <tr>\n",
       "      <th>2204</th>\n",
       "      <td>9405</td>\n",
       "      <td>1954</td>\n",
       "      <td>71</td>\n",
       "      <td>60+</td>\n",
       "      <td>PhD</td>\n",
       "      <td>Married</td>\n",
       "      <td>52869.0</td>\n",
       "      <td>1</td>\n",
       "      <td>1</td>\n",
       "      <td>2</td>\n",
       "      <td>...</td>\n",
       "      <td>7</td>\n",
       "      <td>0</td>\n",
       "      <td>0</td>\n",
       "      <td>0</td>\n",
       "      <td>0</td>\n",
       "      <td>0</td>\n",
       "      <td>No</td>\n",
       "      <td>3</td>\n",
       "      <td>11</td>\n",
       "      <td>Yes</td>\n",
       "    </tr>\n",
       "  </tbody>\n",
       "</table>\n",
       "<p>2205 rows × 33 columns</p>\n",
       "</div>"
      ],
      "text/plain": [
       "         ID  Year_Birth  Age Age_Group   Education Marital_Status   Income  \\\n",
       "0      5524        1957   68       60+  Graduation         Single  58138.0   \n",
       "1      2174        1954   71       60+  Graduation         Single  46344.0   \n",
       "2      4141        1965   60     46-60  Graduation       Together  71613.0   \n",
       "3      6182        1984   41     31-45  Graduation       Together  26646.0   \n",
       "4      5324        1981   44     31-45         PhD        Married  58293.0   \n",
       "...     ...         ...  ...       ...         ...            ...      ...   \n",
       "2200  10870        1967   58     46-60  Graduation        Married  61223.0   \n",
       "2201   4001        1946   79       60+         PhD       Together  64014.0   \n",
       "2202   7270        1981   44     31-45  Graduation       Divorced  56981.0   \n",
       "2203   8235        1956   69       60+      Master       Together  69245.0   \n",
       "2204   9405        1954   71       60+         PhD        Married  52869.0   \n",
       "\n",
       "      Kidhome  Teenhome  Total_Kids  ... NumWebVisitsMonth  AcceptedCmp3  \\\n",
       "0           0         0           0  ...                 7             0   \n",
       "1           1         1           2  ...                 5             0   \n",
       "2           0         0           0  ...                 4             0   \n",
       "3           1         0           1  ...                 6             0   \n",
       "4           1         0           1  ...                 5             0   \n",
       "...       ...       ...         ...  ...               ...           ...   \n",
       "2200        0         1           1  ...                 5             0   \n",
       "2201        2         1           3  ...                 7             0   \n",
       "2202        0         0           0  ...                 6             0   \n",
       "2203        0         1           1  ...                 3             0   \n",
       "2204        1         1           2  ...                 7             0   \n",
       "\n",
       "      AcceptedCmp4  AcceptedCmp5  AcceptedCmp1  AcceptedCmp2  Complain  \\\n",
       "0                0             0             0             0        No   \n",
       "1                0             0             0             0        No   \n",
       "2                0             0             0             0        No   \n",
       "3                0             0             0             0        No   \n",
       "4                0             0             0             0        No   \n",
       "...            ...           ...           ...           ...       ...   \n",
       "2200             0             0             0             0        No   \n",
       "2201             0             0             1             0        No   \n",
       "2202             1             0             0             0        No   \n",
       "2203             0             0             0             0        No   \n",
       "2204             0             0             0             0        No   \n",
       "\n",
       "      Z_CostContact  Z_Revenue  Response  \n",
       "0                 3         11       Yes  \n",
       "1                 3         11        No  \n",
       "2                 3         11        No  \n",
       "3                 3         11        No  \n",
       "4                 3         11        No  \n",
       "...             ...        ...       ...  \n",
       "2200              3         11        No  \n",
       "2201              3         11        No  \n",
       "2202              3         11        No  \n",
       "2203              3         11        No  \n",
       "2204              3         11       Yes  \n",
       "\n",
       "[2205 rows x 33 columns]"
      ]
     },
     "execution_count": 36,
     "metadata": {},
     "output_type": "execute_result"
    }
   ],
   "source": [
    "#فحص وجود القيم المتطرفة في عمود الدخل\n",
    "Q1 = df['Income'].quantile(0.25)\n",
    "Q3 = df['Income'].quantile(0.75)\n",
    "IQR = Q3 - Q1\n",
    "lower_bound = Q1 - 1.5 * IQR\n",
    "upper_bound = Q3 + 1.5 * IQR\n",
    "df_none_income_outliers = df[(df['Income'] >= lower_bound) & (df['Income'] <= upper_bound)]\n",
    "df_none_income_outliers.reset_index(drop=True)"
   ]
  },
  {
   "cell_type": "markdown",
   "id": "40aad1dc-2884-404a-9935-79a8dbef967f",
   "metadata": {},
   "source": [
    "<span style=\"color:orange\"><i>📌 هناك سجلات تحوي قيم متطرفة في عمود الدخل بشكل سيؤثر على التحليلات لذلك قمت بإنشاء نسخة خاصة خالية من هذه القيم وسأعتمد عليها في التحليلات المتعلقة.</i></span>"
   ]
  },
  {
   "cell_type": "code",
   "execution_count": 37,
   "id": "652ab0ec-16f0-434f-a04d-17ab4ce6f318",
   "metadata": {},
   "outputs": [
    {
     "data": {
      "text/plain": [
       "<Axes: xlabel='Income', ylabel='Total_Spent'>"
      ]
     },
     "execution_count": 37,
     "metadata": {},
     "output_type": "execute_result"
    },
    {
     "data": {
      "image/png": "[encoded data removed]",
      "text/plain": [
       "<Figure size 640x480 with 1 Axes>"
      ]
     },
     "metadata": {},
     "output_type": "display_data"
    }
   ],
   "source": [
    "%matplotlib inline\n",
    "sns.scatterplot(data=df_none_income_outliers,x='Income',y='Total_Spent')"
   ]
  },
  {
   "cell_type": "markdown",
   "id": "9949aede-e34d-489b-8777-83f176c4adc1",
   "metadata": {},
   "source": [
    "<span style=\"color:orange\"><i>📌 هناك علاقة طردية بين الدخل والانفاق بحيث يزيد الانفاق بزيادة الدخل .. هناك قيم شاذة تم حذفها لأنها لا تمثل الخط العام وبقية قيم أخرى تمثل سلوك شاذاً عن العلاقة الطردية وهذا أمر طبيعي فسلوك الأفراد ليس مقلوباً لحد التطابق فهناك من لا يوفر نقوداً للطوارئ وهناك من يميل الى الاقتصاد في الانفاق لعدة أسباب نفسية كامتلاكه لهاجس التوفير العالي .. في العموم العلاقة الطردية واضحة وتسير بشكل طبيعي.</i></span>"
   ]
  },
  {
   "cell_type": "code",
   "execution_count": 38,
   "id": "234517d6-10be-42a9-abeb-1a2be63dc211",
   "metadata": {},
   "outputs": [
    {
     "data": {
      "image/png": "[encoded data removed]",
      "text/plain": [
       "<Figure size 640x480 with 1 Axes>"
      ]
     },
     "metadata": {},
     "output_type": "display_data"
    }
   ],
   "source": [
    "sns.countplot(data=df,x='Response')\n",
    "plt.show()"
   ]
  },
  {
   "cell_type": "code",
   "execution_count": 39,
   "id": "03feb191-23a9-460a-b4ce-6b280e3774bc",
   "metadata": {},
   "outputs": [
    {
     "name": "stdout",
     "output_type": "stream",
     "text": [
      "Percentage of customers who responded to the campaign: 15.05%\n"
     ]
    }
   ],
   "source": [
    "responded = (df['Response'] == 'Yes').sum()\n",
    "total = len(df)\n",
    "percentage = (responded / total) * 100\n",
    "print(f\"Percentage of customers who responded to the campaign: {percentage:.2f}%\")"
   ]
  },
  {
   "cell_type": "markdown",
   "id": "f4a9130d-bcf1-4ff4-811a-db119c670219",
   "metadata": {},
   "source": [
    "<span style=\"color:orange\"><i>📌 هناك استجابة ضعيفة جداً للحملة الأخيرة لذلك أعتقد أنه يجب إعادة تقييم الحملة والعمل على أخذ فيدباك منها لكي يُستفاد منه في الحملات القادمة.</i></span>"
   ]
  },
  {
   "cell_type": "code",
   "execution_count": 40,
   "id": "500d81ab-6026-459b-a208-7e9bf6d1a29b",
   "metadata": {},
   "outputs": [
    {
     "data": {
      "image/png": "[encoded data removed]",
      "text/plain": [
       "<Figure size 640x480 with 1 Axes>"
      ]
     },
     "metadata": {},
     "output_type": "display_data"
    }
   ],
   "source": [
    "sns.barplot(data=df,x='Age_Group',y=(df['Response'] == 'Yes').astype(int), estimator='mean',errorbar=None)\n",
    "#estimator='mean'\n",
    "#هو يخبر barplot() أن يحسب المتوسط الحسابي (average) للقيم الموجودة في العمود y، لكل فئة في x.\n",
    "plt.ylabel('Response Rate (Yes)')\n",
    "plt.title('Response Rate by Age Group')\n",
    "plt.show()"
   ]
  },
  {
   "cell_type": "markdown",
   "id": "f08f40c2-713c-4334-890f-71c45e8cb958",
   "metadata": {},
   "source": [
    "<span style=\"color:orange\"><i>📌الأعمار الأكثر الاستجابة للحملة الأخيرة هم المراهقون وقد يكون سبب ذلك هو زيادة نسبة المنتجات التي يميلون إليها في الحملة.</i></span>"
   ]
  },
  {
   "cell_type": "code",
   "execution_count": 41,
   "id": "1ce4e722-1ea2-4413-8b00-07966e45d1a2",
   "metadata": {},
   "outputs": [
    {
     "data": {
      "image/png": "[encoded data removed]",
      "text/plain": [
       "<Figure size 640x480 with 1 Axes>"
      ]
     },
     "metadata": {},
     "output_type": "display_data"
    }
   ],
   "source": [
    "sns.barplot(data=df,x='Marital_Status',y=(df['Response'] == 'Yes').astype(int),estimator='mean',errorbar=None)\n",
    "plt.ylabel('Response Rate (Yes)')\n",
    "plt.title('Response Rate by Marital Status')\n",
    "plt.show()"
   ]
  },
  {
   "cell_type": "markdown",
   "id": "52c8bedb-4802-4c00-adbe-63d677ac6cdb",
   "metadata": {},
   "source": [
    "<span style=\"color:orange\"><i>📌في المخطط تبدو الفئات الأخرى أكثر استجابة للحملة وهذا قياس خاطئ لأن عدد السجلات التي تتبع لها قليل جداً لذلك الاجابة الصحيحة هي فئة الأرامل وهذا يبدو أكثر واقعية.</i></span>"
   ]
  },
  {
   "cell_type": "code",
   "execution_count": 44,
   "id": "5b7ce2fa-c21e-4eb5-a005-526dafbce882",
   "metadata": {},
   "outputs": [
    {
     "data": {
      "image/png": "[encoded data removed]",
      "text/plain": [
       "<Figure size 640x480 with 1 Axes>"
      ]
     },
     "metadata": {},
     "output_type": "display_data"
    }
   ],
   "source": [
    "sns.barplot(data=df,x='Total_Kids',y=(df['Response'] == 'Yes').astype(int),estimator='mean',errorbar=None)\n",
    "plt.ylabel('Response Rate (Yes)')\n",
    "plt.title('Response Rate by Number of Children')\n",
    "plt.show()"
   ]
  },
  {
   "cell_type": "markdown",
   "id": "6bf5a1f3-0b4e-4822-8de2-a26579466de7",
   "metadata": {},
   "source": [
    "<span style=\"color:orange\"><i>📌العائلات التي لا تملك أبناء هي أكثر استجابة بنسبة كبيرة للحملة الأخيرة وهذه نتيجة واقعية لتوفر الوقت والمرونة في الانفاق.</i></span>"
   ]
  },
  {
   "cell_type": "markdown",
   "id": "7608a9f0-f9b2-45ce-b5b6-abf45cd9cd94",
   "metadata": {},
   "source": [
    "### 📋 تحليل العلاقة بين الاستجابة Response ومصادر الشراء المختلفة"
   ]
  },
  {
   "cell_type": "code",
   "execution_count": 55,
   "id": "131021af-0b00-45ae-8a17-90d70c7949c6",
   "metadata": {},
   "outputs": [],
   "source": [
    "#حفظ dataframe في الذاكرة\n",
    "df.to_pickle('df_stage1.pkl')"
   ]
  },
  {
   "cell_type": "code",
   "execution_count": 51,
   "id": "3356e6e6-70fb-4b9e-b7bd-d0baf0e29332",
   "metadata": {},
   "outputs": [],
   "source": [
    "df_copy = df.copy()"
   ]
  },
  {
   "cell_type": "code",
   "execution_count": 56,
   "id": "d5672d4a-f16a-4a2a-9c78-ad63bad1d659",
   "metadata": {},
   "outputs": [],
   "source": [
    "#إنشاء عمود لمعرفة أعلى منفذ اشترى منه العميل\n",
    "df['Most_Frequent_Channel'] = df[['NumWebPurchases','NumCatalogPurchases','NumStorePurchases']].idxmax(axis=1)\n",
    "col = df.pop('Most_Frequent_Channel')\n",
    "df.insert(24,'Most_Frequent_Channel',col)"
   ]
  },
  {
   "cell_type": "code",
   "execution_count": 62,
   "id": "f281766a-c473-4464-af10-24655ca6184f",
   "metadata": {},
   "outputs": [
    {
     "data": {
      "image/png": "[encoded data removed]",
      "text/plain": [
       "<Figure size 640x480 with 1 Axes>"
      ]
     },
     "metadata": {},
     "output_type": "display_data"
    }
   ],
   "source": [
    "sns.barplot(data=df,x='Most_Frequent_Channel',y=(df['Response'] == 'Yes').astype(int),estimator='mean',errorbar=None)\n",
    "plt.ylabel('Response Rate (Yes)')\n",
    "plt.title('Response Rate by Most Frequent Purchase Channel')\n",
    "plt.show()"
   ]
  },
  {
   "cell_type": "markdown",
   "id": "5e72fc4d-0b54-44a7-b1c7-644e251f3820",
   "metadata": {},
   "source": [
    "<span style=\"color:orange\"><i>📌العملاء الذين اشتروا عن طريق الكاتلوغ كانوا هم أكثر استجابة لآخر حملة.</i></span>"
   ]
  },
  {
   "cell_type": "markdown",
   "id": "42fea065-de75-4ebb-8401-a06c8ac32a4e",
   "metadata": {},
   "source": [
    "### 📋 تحليل العلاقة بين عدد الاستجابات السابقة المقبولة والاستجابة لاخر حملة"
   ]
  },
  {
   "cell_type": "code",
   "execution_count": 78,
   "id": "6c146ffe-c53f-4bbe-ac1c-6d3ac80e81ba",
   "metadata": {},
   "outputs": [],
   "source": [
    "df['Previous_Accepted'] = (df[['AcceptedCmp1', 'AcceptedCmp2', 'AcceptedCmp3', 'AcceptedCmp4', 'AcceptedCmp5']].sum(axis=1) > 0).astype(int)\n",
    "col = df.pop('Previous_Accepted')\n",
    "df.insert(30,'Previous_Accepted',col)"
   ]
  },
  {
   "cell_type": "code",
   "execution_count": 79,
   "id": "d6467eef-b89f-4e87-991d-c4d51ad5f57d",
   "metadata": {},
   "outputs": [
    {
     "data": {
      "text/html": [
       "<div>\n",
       "<style scoped>\n",
       "    .dataframe tbody tr th:only-of-type {\n",
       "        vertical-align: middle;\n",
       "    }\n",
       "\n",
       "    .dataframe tbody tr th {\n",
       "        vertical-align: top;\n",
       "    }\n",
       "\n",
       "    .dataframe thead th {\n",
       "        text-align: right;\n",
       "    }\n",
       "</style>\n",
       "<table border=\"1\" class=\"dataframe\">\n",
       "  <thead>\n",
       "    <tr style=\"text-align: right;\">\n",
       "      <th></th>\n",
       "      <th>ID</th>\n",
       "      <th>Year_Birth</th>\n",
       "      <th>Age</th>\n",
       "      <th>Age_Group</th>\n",
       "      <th>Education</th>\n",
       "      <th>Marital_Status</th>\n",
       "      <th>Income</th>\n",
       "      <th>Kidhome</th>\n",
       "      <th>Teenhome</th>\n",
       "      <th>Total_Kids</th>\n",
       "      <th>...</th>\n",
       "      <th>AcceptedCmp4</th>\n",
       "      <th>AcceptedCmp5</th>\n",
       "      <th>AcceptedCmp1</th>\n",
       "      <th>AcceptedCmp2</th>\n",
       "      <th>Previous_Accepted</th>\n",
       "      <th>Complain</th>\n",
       "      <th>Z_CostContact</th>\n",
       "      <th>Z_Revenue</th>\n",
       "      <th>Response</th>\n",
       "      <th>PrevAny</th>\n",
       "    </tr>\n",
       "  </thead>\n",
       "  <tbody>\n",
       "    <tr>\n",
       "      <th>0</th>\n",
       "      <td>5524</td>\n",
       "      <td>1957</td>\n",
       "      <td>68</td>\n",
       "      <td>60+</td>\n",
       "      <td>Graduation</td>\n",
       "      <td>Single</td>\n",
       "      <td>58138.0</td>\n",
       "      <td>0</td>\n",
       "      <td>0</td>\n",
       "      <td>0</td>\n",
       "      <td>...</td>\n",
       "      <td>0</td>\n",
       "      <td>0</td>\n",
       "      <td>0</td>\n",
       "      <td>0</td>\n",
       "      <td>0</td>\n",
       "      <td>No</td>\n",
       "      <td>3</td>\n",
       "      <td>11</td>\n",
       "      <td>Yes</td>\n",
       "      <td>0</td>\n",
       "    </tr>\n",
       "    <tr>\n",
       "      <th>1</th>\n",
       "      <td>2174</td>\n",
       "      <td>1954</td>\n",
       "      <td>71</td>\n",
       "      <td>60+</td>\n",
       "      <td>Graduation</td>\n",
       "      <td>Single</td>\n",
       "      <td>46344.0</td>\n",
       "      <td>1</td>\n",
       "      <td>1</td>\n",
       "      <td>2</td>\n",
       "      <td>...</td>\n",
       "      <td>0</td>\n",
       "      <td>0</td>\n",
       "      <td>0</td>\n",
       "      <td>0</td>\n",
       "      <td>0</td>\n",
       "      <td>No</td>\n",
       "      <td>3</td>\n",
       "      <td>11</td>\n",
       "      <td>No</td>\n",
       "      <td>0</td>\n",
       "    </tr>\n",
       "    <tr>\n",
       "      <th>2</th>\n",
       "      <td>4141</td>\n",
       "      <td>1965</td>\n",
       "      <td>60</td>\n",
       "      <td>46-60</td>\n",
       "      <td>Graduation</td>\n",
       "      <td>Together</td>\n",
       "      <td>71613.0</td>\n",
       "      <td>0</td>\n",
       "      <td>0</td>\n",
       "      <td>0</td>\n",
       "      <td>...</td>\n",
       "      <td>0</td>\n",
       "      <td>0</td>\n",
       "      <td>0</td>\n",
       "      <td>0</td>\n",
       "      <td>0</td>\n",
       "      <td>No</td>\n",
       "      <td>3</td>\n",
       "      <td>11</td>\n",
       "      <td>No</td>\n",
       "      <td>0</td>\n",
       "    </tr>\n",
       "    <tr>\n",
       "      <th>3</th>\n",
       "      <td>6182</td>\n",
       "      <td>1984</td>\n",
       "      <td>41</td>\n",
       "      <td>31-45</td>\n",
       "      <td>Graduation</td>\n",
       "      <td>Together</td>\n",
       "      <td>26646.0</td>\n",
       "      <td>1</td>\n",
       "      <td>0</td>\n",
       "      <td>1</td>\n",
       "      <td>...</td>\n",
       "      <td>0</td>\n",
       "      <td>0</td>\n",
       "      <td>0</td>\n",
       "      <td>0</td>\n",
       "      <td>0</td>\n",
       "      <td>No</td>\n",
       "      <td>3</td>\n",
       "      <td>11</td>\n",
       "      <td>No</td>\n",
       "      <td>0</td>\n",
       "    </tr>\n",
       "    <tr>\n",
       "      <th>4</th>\n",
       "      <td>5324</td>\n",
       "      <td>1981</td>\n",
       "      <td>44</td>\n",
       "      <td>31-45</td>\n",
       "      <td>PhD</td>\n",
       "      <td>Married</td>\n",
       "      <td>58293.0</td>\n",
       "      <td>1</td>\n",
       "      <td>0</td>\n",
       "      <td>1</td>\n",
       "      <td>...</td>\n",
       "      <td>0</td>\n",
       "      <td>0</td>\n",
       "      <td>0</td>\n",
       "      <td>0</td>\n",
       "      <td>0</td>\n",
       "      <td>No</td>\n",
       "      <td>3</td>\n",
       "      <td>11</td>\n",
       "      <td>No</td>\n",
       "      <td>0</td>\n",
       "    </tr>\n",
       "  </tbody>\n",
       "</table>\n",
       "<p>5 rows × 36 columns</p>\n",
       "</div>"
      ],
      "text/plain": [
       "     ID  Year_Birth  Age Age_Group   Education Marital_Status   Income  \\\n",
       "0  5524        1957   68       60+  Graduation         Single  58138.0   \n",
       "1  2174        1954   71       60+  Graduation         Single  46344.0   \n",
       "2  4141        1965   60     46-60  Graduation       Together  71613.0   \n",
       "3  6182        1984   41     31-45  Graduation       Together  26646.0   \n",
       "4  5324        1981   44     31-45         PhD        Married  58293.0   \n",
       "\n",
       "   Kidhome  Teenhome  Total_Kids  ... AcceptedCmp4  AcceptedCmp5  \\\n",
       "0        0         0           0  ...            0             0   \n",
       "1        1         1           2  ...            0             0   \n",
       "2        0         0           0  ...            0             0   \n",
       "3        1         0           1  ...            0             0   \n",
       "4        1         0           1  ...            0             0   \n",
       "\n",
       "   AcceptedCmp1  AcceptedCmp2  Previous_Accepted  Complain  Z_CostContact  \\\n",
       "0             0             0                  0        No              3   \n",
       "1             0             0                  0        No              3   \n",
       "2             0             0                  0        No              3   \n",
       "3             0             0                  0        No              3   \n",
       "4             0             0                  0        No              3   \n",
       "\n",
       "   Z_Revenue  Response  PrevAny  \n",
       "0         11       Yes        0  \n",
       "1         11        No        0  \n",
       "2         11        No        0  \n",
       "3         11        No        0  \n",
       "4         11        No        0  \n",
       "\n",
       "[5 rows x 36 columns]"
      ]
     },
     "execution_count": 79,
     "metadata": {},
     "output_type": "execute_result"
    }
   ],
   "source": [
    "df.head()"
   ]
  },
  {
   "cell_type": "code",
   "execution_count": 80,
   "id": "697ada86-2b73-4f35-b385-2d1922983d4e",
   "metadata": {},
   "outputs": [
    {
     "data": {
      "text/plain": [
       "Response\n",
       "No     0.144149\n",
       "Yes    0.561562\n",
       "Name: Previous_Accepted, dtype: float64"
      ]
     },
     "execution_count": 80,
     "metadata": {},
     "output_type": "execute_result"
    }
   ],
   "source": [
    "df.groupby('Response')['Previous_Accepted'].mean()"
   ]
  },
  {
   "cell_type": "code",
   "execution_count": 81,
   "id": "e6690f6b-e1b0-4e35-b864-c2bce21a2d00",
   "metadata": {},
   "outputs": [
    {
     "data": {
      "text/plain": [
       "<Axes: xlabel='Response', ylabel='Previous_Accepted'>"
      ]
     },
     "execution_count": 81,
     "metadata": {},
     "output_type": "execute_result"
    },
    {
     "data": {
      "image/png": "[encoded data removed]",
      "text/plain": [
       "<Figure size 640x480 with 1 Axes>"
      ]
     },
     "metadata": {},
     "output_type": "display_data"
    }
   ],
   "source": [
    "sns.barplot(data=df,x='Response',y='Previous_Accepted',errorbar=None)"
   ]
  },
  {
   "cell_type": "code",
   "execution_count": 103,
   "id": "7d85a43b-2b02-4547-a2c5-cdf482997027",
   "metadata": {},
   "outputs": [
    {
     "data": {
      "text/html": [
       "<div>\n",
       "<style scoped>\n",
       "    .dataframe tbody tr th:only-of-type {\n",
       "        vertical-align: middle;\n",
       "    }\n",
       "\n",
       "    .dataframe tbody tr th {\n",
       "        vertical-align: top;\n",
       "    }\n",
       "\n",
       "    .dataframe thead th {\n",
       "        text-align: right;\n",
       "    }\n",
       "</style>\n",
       "<table border=\"1\" class=\"dataframe\">\n",
       "  <thead>\n",
       "    <tr style=\"text-align: right;\">\n",
       "      <th>Previous_Accepted</th>\n",
       "      <th>False</th>\n",
       "      <th>True</th>\n",
       "    </tr>\n",
       "    <tr>\n",
       "      <th>Response</th>\n",
       "      <th></th>\n",
       "      <th></th>\n",
       "    </tr>\n",
       "  </thead>\n",
       "  <tbody>\n",
       "    <tr>\n",
       "      <th>No</th>\n",
       "      <td>85.585106</td>\n",
       "      <td>14.414894</td>\n",
       "    </tr>\n",
       "    <tr>\n",
       "      <th>Yes</th>\n",
       "      <td>43.843844</td>\n",
       "      <td>56.156156</td>\n",
       "    </tr>\n",
       "  </tbody>\n",
       "</table>\n",
       "</div>"
      ],
      "text/plain": [
       "Previous_Accepted      False      True \n",
       "Response                               \n",
       "No                 85.585106  14.414894\n",
       "Yes                43.843844  56.156156"
      ]
     },
     "execution_count": 103,
     "metadata": {},
     "output_type": "execute_result"
    }
   ],
   "source": [
    "pd.crosstab(df['Response'], df['Previous_Accepted'] > 0, normalize='index') * 100"
   ]
  },
  {
   "cell_type": "markdown",
   "id": "0d7f342a-cd9b-4154-af06-10aa27876996",
   "metadata": {},
   "source": [
    "### 📋تحليل العملاء بناءً على Recency"
   ]
  },
  {
   "cell_type": "markdown",
   "id": "fd2b12ea-31b0-4632-969a-f123d58f62b2",
   "metadata": {},
   "source": [
    "<span style=\"color:orange\"><i>📌العملاء الذين استجابوا لحملة سابقة على الأقل كانوا أكثر استجابة للحملة الأخيرة.</i></span>"
   ]
  },
  {
   "cell_type": "code",
   "execution_count": 82,
   "id": "b75b950d-f2ed-48b2-8382-c9ef4138bec5",
   "metadata": {},
   "outputs": [],
   "source": [
    "df_copy = df.copy()"
   ]
  },
  {
   "cell_type": "code",
   "execution_count": 95,
   "id": "40f01b31-5bc0-406a-a8e8-c5afb6d5ebc3",
   "metadata": {},
   "outputs": [],
   "source": [
    "df['Recency_category'] = pd.cut(df['Recency'],bins=[0, 20, 40, 60, 80, 100],labels=['0-20','21-40','41-60','61-80','81+'])\n",
    "col = df.pop('Recency_category')\n",
    "df.insert(12,'Recency_category',col)"
   ]
  },
  {
   "cell_type": "code",
   "execution_count": 102,
   "id": "53023097-3bb7-4e19-8d60-1d4d6759d322",
   "metadata": {},
   "outputs": [
    {
     "data": {
      "text/plain": [
       "<Axes: xlabel='Recency_category', ylabel='Response'>"
      ]
     },
     "execution_count": 102,
     "metadata": {},
     "output_type": "execute_result"
    },
    {
     "data": {
      "image/png": "[encoded data removed]",
      "text/plain": [
       "<Figure size 640x480 with 1 Axes>"
      ]
     },
     "metadata": {},
     "output_type": "display_data"
    }
   ],
   "source": [
    "sns.barplot(data=df,x='Recency_category',y=(df['Response'] == 'Yes').astype(int),estimator='mean',errorbar=None)"
   ]
  },
  {
   "cell_type": "markdown",
   "id": "e3be75a1-2287-4ef7-ac17-99b1ffabc162",
   "metadata": {},
   "source": [
    "<span style=\"color:orange\"><i>📌العملاء الذين تفاعلوا مؤخراً هم الأكثر استجابة.</i></span>"
   ]
  },
  {
   "cell_type": "markdown",
   "id": "0ff88c82-bdd3-46ac-9f72-254daf409af5",
   "metadata": {},
   "source": [
    "### 📋تحليل الإنفاق حسب مصادر الشراء"
   ]
  },
  {
   "cell_type": "code",
   "execution_count": 104,
   "id": "ca6d258f-48d0-4a88-9525-e8bce3773bf1",
   "metadata": {},
   "outputs": [],
   "source": [
    "df_melted = df.melt(id_vars='Total_Spent',value_vars=['NumWebPurchases','NumCatalogPurchases','NumStorePurchases'],var_name='Purchase_Channel',\n",
    "                    value_name='Purchase_Count')"
   ]
  },
  {
   "cell_type": "code",
   "execution_count": 106,
   "id": "1e783c1d-9f3a-4362-829a-e7960cc68b66",
   "metadata": {},
   "outputs": [
    {
     "data": {
      "image/png": "[encoded data removed]",
      "text/plain": [
       "<Figure size 640x480 with 1 Axes>"
      ]
     },
     "metadata": {},
     "output_type": "display_data"
    }
   ],
   "source": [
    "sns.barplot(data=df_melted,x='Purchase_Channel',y='Purchase_Count')\n",
    "plt.title(\"Total Spending by Purchase Channel\")\n",
    "plt.xlabel(\"Purchase Channel\")\n",
    "plt.ylabel(\"Total Spending\")\n",
    "plt.show()"
   ]
  },
  {
   "cell_type": "markdown",
   "id": "2a27e6ad-c8e1-4cb8-84a6-2d64d1fd3b45",
   "metadata": {},
   "source": [
    "<span style=\"color:orange\"><i>📌الشراء عن طريق المتجر مباشرة كان صاحب أعلى معدل إنفاق.</i></span>"
   ]
  },
  {
   "cell_type": "code",
   "execution_count": null,
   "id": "6ae3ab02-5b02-4bdb-a35a-299feda96070",
   "metadata": {},
   "outputs": [],
   "source": []
  }
 ],
 "metadata": {
  "kernelspec": {
   "display_name": "Python 3 (ipykernel)",
   "language": "python",
   "name": "python3"
  },
  "language_info": {
   "codemirror_mode": {
    "name": "ipython",
    "version": 3
   },
   "file_extension": ".py",
   "mimetype": "text/x-python",
   "name": "python",
   "nbconvert_exporter": "python",
   "pygments_lexer": "ipython3",
   "version": "3.11.0"
  }
 },
 "nbformat": 4,
 "nbformat_minor": 5
}
